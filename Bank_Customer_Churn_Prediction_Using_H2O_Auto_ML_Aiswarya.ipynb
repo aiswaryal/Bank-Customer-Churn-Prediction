{
  "nbformat": 4,
  "nbformat_minor": 0,
  "metadata": {
    "colab": {
      "name": "Bank Customer Churn Prediction  Using H2O Auto ML.ipynb",
      "provenance": [],
      "collapsed_sections": []
    },
    "kernelspec": {
      "name": "python3",
      "display_name": "Python 3"
    },
    "language_info": {
      "name": "python"
    }
  },
  "cells": [
    {
      "cell_type": "code",
      "source": [
        "import pandas as pd\n",
        "from matplotlib import pyplot as plt\n",
        "import numpy as np\n",
        "import seaborn as sns\n",
        "%matplotlib inline\n",
        "from sklearn.preprocessing import MinMaxScaler\n",
        "import tensorflow as tf\n",
        "from tensorflow import keras\n",
        "from sklearn.metrics import accuracy_score"
      ],
      "metadata": {
        "id": "s7useD9ygdBZ"
      },
      "execution_count": 40,
      "outputs": []
    },
    {
      "cell_type": "code",
      "execution_count": 2,
      "metadata": {
        "id": "lU_igZrGfNZP"
      },
      "outputs": [],
      "source": [
        "df = pd.read_csv('/content/Churn_Modelling.csv')"
      ]
    },
    {
      "cell_type": "code",
      "source": [
        "df.head(2)"
      ],
      "metadata": {
        "colab": {
          "base_uri": "https://localhost:8080/",
          "height": 176
        },
        "id": "O6OjOIIjj3QH",
        "outputId": "775531bf-715c-4e58-8f9b-e0f229fc7fe5"
      },
      "execution_count": 3,
      "outputs": [
        {
          "output_type": "execute_result",
          "data": {
            "text/html": [
              "\n",
              "  <div id=\"df-3466ca6e-928a-46da-9ccc-53495705ab89\">\n",
              "    <div class=\"colab-df-container\">\n",
              "      <div>\n",
              "<style scoped>\n",
              "    .dataframe tbody tr th:only-of-type {\n",
              "        vertical-align: middle;\n",
              "    }\n",
              "\n",
              "    .dataframe tbody tr th {\n",
              "        vertical-align: top;\n",
              "    }\n",
              "\n",
              "    .dataframe thead th {\n",
              "        text-align: right;\n",
              "    }\n",
              "</style>\n",
              "<table border=\"1\" class=\"dataframe\">\n",
              "  <thead>\n",
              "    <tr style=\"text-align: right;\">\n",
              "      <th></th>\n",
              "      <th>RowNumber</th>\n",
              "      <th>CustomerId</th>\n",
              "      <th>Surname</th>\n",
              "      <th>CreditScore</th>\n",
              "      <th>Geography</th>\n",
              "      <th>Gender</th>\n",
              "      <th>Age</th>\n",
              "      <th>Tenure</th>\n",
              "      <th>Balance</th>\n",
              "      <th>NumOfProducts</th>\n",
              "      <th>HasCrCard</th>\n",
              "      <th>IsActiveMember</th>\n",
              "      <th>EstimatedSalary</th>\n",
              "      <th>Exited</th>\n",
              "    </tr>\n",
              "  </thead>\n",
              "  <tbody>\n",
              "    <tr>\n",
              "      <th>0</th>\n",
              "      <td>1</td>\n",
              "      <td>15634602</td>\n",
              "      <td>Hargrave</td>\n",
              "      <td>619</td>\n",
              "      <td>France</td>\n",
              "      <td>Female</td>\n",
              "      <td>42</td>\n",
              "      <td>2</td>\n",
              "      <td>0.00</td>\n",
              "      <td>1</td>\n",
              "      <td>1</td>\n",
              "      <td>1</td>\n",
              "      <td>101348.88</td>\n",
              "      <td>1</td>\n",
              "    </tr>\n",
              "    <tr>\n",
              "      <th>1</th>\n",
              "      <td>2</td>\n",
              "      <td>15647311</td>\n",
              "      <td>Hill</td>\n",
              "      <td>608</td>\n",
              "      <td>Spain</td>\n",
              "      <td>Female</td>\n",
              "      <td>41</td>\n",
              "      <td>1</td>\n",
              "      <td>83807.86</td>\n",
              "      <td>1</td>\n",
              "      <td>0</td>\n",
              "      <td>1</td>\n",
              "      <td>112542.58</td>\n",
              "      <td>0</td>\n",
              "    </tr>\n",
              "  </tbody>\n",
              "</table>\n",
              "</div>\n",
              "      <button class=\"colab-df-convert\" onclick=\"convertToInteractive('df-3466ca6e-928a-46da-9ccc-53495705ab89')\"\n",
              "              title=\"Convert this dataframe to an interactive table.\"\n",
              "              style=\"display:none;\">\n",
              "        \n",
              "  <svg xmlns=\"http://www.w3.org/2000/svg\" height=\"24px\"viewBox=\"0 0 24 24\"\n",
              "       width=\"24px\">\n",
              "    <path d=\"M0 0h24v24H0V0z\" fill=\"none\"/>\n",
              "    <path d=\"M18.56 5.44l.94 2.06.94-2.06 2.06-.94-2.06-.94-.94-2.06-.94 2.06-2.06.94zm-11 1L8.5 8.5l.94-2.06 2.06-.94-2.06-.94L8.5 2.5l-.94 2.06-2.06.94zm10 10l.94 2.06.94-2.06 2.06-.94-2.06-.94-.94-2.06-.94 2.06-2.06.94z\"/><path d=\"M17.41 7.96l-1.37-1.37c-.4-.4-.92-.59-1.43-.59-.52 0-1.04.2-1.43.59L10.3 9.45l-7.72 7.72c-.78.78-.78 2.05 0 2.83L4 21.41c.39.39.9.59 1.41.59.51 0 1.02-.2 1.41-.59l7.78-7.78 2.81-2.81c.8-.78.8-2.07 0-2.86zM5.41 20L4 18.59l7.72-7.72 1.47 1.35L5.41 20z\"/>\n",
              "  </svg>\n",
              "      </button>\n",
              "      \n",
              "  <style>\n",
              "    .colab-df-container {\n",
              "      display:flex;\n",
              "      flex-wrap:wrap;\n",
              "      gap: 12px;\n",
              "    }\n",
              "\n",
              "    .colab-df-convert {\n",
              "      background-color: #E8F0FE;\n",
              "      border: none;\n",
              "      border-radius: 50%;\n",
              "      cursor: pointer;\n",
              "      display: none;\n",
              "      fill: #1967D2;\n",
              "      height: 32px;\n",
              "      padding: 0 0 0 0;\n",
              "      width: 32px;\n",
              "    }\n",
              "\n",
              "    .colab-df-convert:hover {\n",
              "      background-color: #E2EBFA;\n",
              "      box-shadow: 0px 1px 2px rgba(60, 64, 67, 0.3), 0px 1px 3px 1px rgba(60, 64, 67, 0.15);\n",
              "      fill: #174EA6;\n",
              "    }\n",
              "\n",
              "    [theme=dark] .colab-df-convert {\n",
              "      background-color: #3B4455;\n",
              "      fill: #D2E3FC;\n",
              "    }\n",
              "\n",
              "    [theme=dark] .colab-df-convert:hover {\n",
              "      background-color: #434B5C;\n",
              "      box-shadow: 0px 1px 3px 1px rgba(0, 0, 0, 0.15);\n",
              "      filter: drop-shadow(0px 1px 2px rgba(0, 0, 0, 0.3));\n",
              "      fill: #FFFFFF;\n",
              "    }\n",
              "  </style>\n",
              "\n",
              "      <script>\n",
              "        const buttonEl =\n",
              "          document.querySelector('#df-3466ca6e-928a-46da-9ccc-53495705ab89 button.colab-df-convert');\n",
              "        buttonEl.style.display =\n",
              "          google.colab.kernel.accessAllowed ? 'block' : 'none';\n",
              "\n",
              "        async function convertToInteractive(key) {\n",
              "          const element = document.querySelector('#df-3466ca6e-928a-46da-9ccc-53495705ab89');\n",
              "          const dataTable =\n",
              "            await google.colab.kernel.invokeFunction('convertToInteractive',\n",
              "                                                     [key], {});\n",
              "          if (!dataTable) return;\n",
              "\n",
              "          const docLinkHtml = 'Like what you see? Visit the ' +\n",
              "            '<a target=\"_blank\" href=https://colab.research.google.com/notebooks/data_table.ipynb>data table notebook</a>'\n",
              "            + ' to learn more about interactive tables.';\n",
              "          element.innerHTML = '';\n",
              "          dataTable['output_type'] = 'display_data';\n",
              "          await google.colab.output.renderOutput(dataTable, element);\n",
              "          const docLink = document.createElement('div');\n",
              "          docLink.innerHTML = docLinkHtml;\n",
              "          element.appendChild(docLink);\n",
              "        }\n",
              "      </script>\n",
              "    </div>\n",
              "  </div>\n",
              "  "
            ],
            "text/plain": [
              "   RowNumber  CustomerId   Surname  ...  IsActiveMember EstimatedSalary Exited\n",
              "0          1    15634602  Hargrave  ...               1       101348.88      1\n",
              "1          2    15647311      Hill  ...               1       112542.58      0\n",
              "\n",
              "[2 rows x 14 columns]"
            ]
          },
          "metadata": {},
          "execution_count": 3
        }
      ]
    },
    {
      "cell_type": "code",
      "source": [
        "df.shape"
      ],
      "metadata": {
        "colab": {
          "base_uri": "https://localhost:8080/"
        },
        "id": "aDgM8xxmFFTD",
        "outputId": "4fda9951-cded-4ee2-c021-a57620a99fe5"
      },
      "execution_count": 4,
      "outputs": [
        {
          "output_type": "execute_result",
          "data": {
            "text/plain": [
              "(10000, 14)"
            ]
          },
          "metadata": {},
          "execution_count": 4
        }
      ]
    },
    {
      "cell_type": "markdown",
      "source": [
        "##Data Analysis"
      ],
      "metadata": {
        "id": "zijxxdWWq_fo"
      }
    },
    {
      "cell_type": "markdown",
      "source": [
        "Customer ID, Row Number and Surname are not required during prediction."
      ],
      "metadata": {
        "id": "bxULFLU2rpQB"
      }
    },
    {
      "cell_type": "code",
      "source": [
        "df.drop(['CustomerId', 'RowNumber','Surname'], axis = 1, inplace=True)"
      ],
      "metadata": {
        "id": "IFcsAvmHrWcJ",
        "colab": {
          "base_uri": "https://localhost:8080/",
          "height": 310
        },
        "outputId": "737b5ffa-25b3-4885-e839-84d26e4b8660"
      },
      "execution_count": 6,
      "outputs": [
        {
          "output_type": "error",
          "ename": "KeyError",
          "evalue": "ignored",
          "traceback": [
            "\u001b[0;31m---------------------------------------------------------------------------\u001b[0m",
            "\u001b[0;31mKeyError\u001b[0m                                  Traceback (most recent call last)",
            "\u001b[0;32m<ipython-input-6-830fb5da7e44>\u001b[0m in \u001b[0;36m<module>\u001b[0;34m()\u001b[0m\n\u001b[0;32m----> 1\u001b[0;31m \u001b[0mdf\u001b[0m\u001b[0;34m.\u001b[0m\u001b[0mdrop\u001b[0m\u001b[0;34m(\u001b[0m\u001b[0;34m[\u001b[0m\u001b[0;34m'CustomerId'\u001b[0m\u001b[0;34m,\u001b[0m \u001b[0;34m'RowNumber'\u001b[0m\u001b[0;34m,\u001b[0m\u001b[0;34m'Surname'\u001b[0m\u001b[0;34m]\u001b[0m\u001b[0;34m,\u001b[0m \u001b[0maxis\u001b[0m \u001b[0;34m=\u001b[0m \u001b[0;36m1\u001b[0m\u001b[0;34m,\u001b[0m \u001b[0minplace\u001b[0m\u001b[0;34m=\u001b[0m\u001b[0;32mTrue\u001b[0m\u001b[0;34m)\u001b[0m\u001b[0;34m\u001b[0m\u001b[0;34m\u001b[0m\u001b[0m\n\u001b[0m",
            "\u001b[0;32m/usr/local/lib/python3.7/dist-packages/pandas/core/frame.py\u001b[0m in \u001b[0;36mdrop\u001b[0;34m(self, labels, axis, index, columns, level, inplace, errors)\u001b[0m\n\u001b[1;32m   4172\u001b[0m             \u001b[0mlevel\u001b[0m\u001b[0;34m=\u001b[0m\u001b[0mlevel\u001b[0m\u001b[0;34m,\u001b[0m\u001b[0;34m\u001b[0m\u001b[0;34m\u001b[0m\u001b[0m\n\u001b[1;32m   4173\u001b[0m             \u001b[0minplace\u001b[0m\u001b[0;34m=\u001b[0m\u001b[0minplace\u001b[0m\u001b[0;34m,\u001b[0m\u001b[0;34m\u001b[0m\u001b[0;34m\u001b[0m\u001b[0m\n\u001b[0;32m-> 4174\u001b[0;31m             \u001b[0merrors\u001b[0m\u001b[0;34m=\u001b[0m\u001b[0merrors\u001b[0m\u001b[0;34m,\u001b[0m\u001b[0;34m\u001b[0m\u001b[0;34m\u001b[0m\u001b[0m\n\u001b[0m\u001b[1;32m   4175\u001b[0m         )\n\u001b[1;32m   4176\u001b[0m \u001b[0;34m\u001b[0m\u001b[0m\n",
            "\u001b[0;32m/usr/local/lib/python3.7/dist-packages/pandas/core/generic.py\u001b[0m in \u001b[0;36mdrop\u001b[0;34m(self, labels, axis, index, columns, level, inplace, errors)\u001b[0m\n\u001b[1;32m   3887\u001b[0m         \u001b[0;32mfor\u001b[0m \u001b[0maxis\u001b[0m\u001b[0;34m,\u001b[0m \u001b[0mlabels\u001b[0m \u001b[0;32min\u001b[0m \u001b[0maxes\u001b[0m\u001b[0;34m.\u001b[0m\u001b[0mitems\u001b[0m\u001b[0;34m(\u001b[0m\u001b[0;34m)\u001b[0m\u001b[0;34m:\u001b[0m\u001b[0;34m\u001b[0m\u001b[0;34m\u001b[0m\u001b[0m\n\u001b[1;32m   3888\u001b[0m             \u001b[0;32mif\u001b[0m \u001b[0mlabels\u001b[0m \u001b[0;32mis\u001b[0m \u001b[0;32mnot\u001b[0m \u001b[0;32mNone\u001b[0m\u001b[0;34m:\u001b[0m\u001b[0;34m\u001b[0m\u001b[0;34m\u001b[0m\u001b[0m\n\u001b[0;32m-> 3889\u001b[0;31m                 \u001b[0mobj\u001b[0m \u001b[0;34m=\u001b[0m \u001b[0mobj\u001b[0m\u001b[0;34m.\u001b[0m\u001b[0m_drop_axis\u001b[0m\u001b[0;34m(\u001b[0m\u001b[0mlabels\u001b[0m\u001b[0;34m,\u001b[0m \u001b[0maxis\u001b[0m\u001b[0;34m,\u001b[0m \u001b[0mlevel\u001b[0m\u001b[0;34m=\u001b[0m\u001b[0mlevel\u001b[0m\u001b[0;34m,\u001b[0m \u001b[0merrors\u001b[0m\u001b[0;34m=\u001b[0m\u001b[0merrors\u001b[0m\u001b[0;34m)\u001b[0m\u001b[0;34m\u001b[0m\u001b[0;34m\u001b[0m\u001b[0m\n\u001b[0m\u001b[1;32m   3890\u001b[0m \u001b[0;34m\u001b[0m\u001b[0m\n\u001b[1;32m   3891\u001b[0m         \u001b[0;32mif\u001b[0m \u001b[0minplace\u001b[0m\u001b[0;34m:\u001b[0m\u001b[0;34m\u001b[0m\u001b[0;34m\u001b[0m\u001b[0m\n",
            "\u001b[0;32m/usr/local/lib/python3.7/dist-packages/pandas/core/generic.py\u001b[0m in \u001b[0;36m_drop_axis\u001b[0;34m(self, labels, axis, level, errors)\u001b[0m\n\u001b[1;32m   3921\u001b[0m                 \u001b[0mnew_axis\u001b[0m \u001b[0;34m=\u001b[0m \u001b[0maxis\u001b[0m\u001b[0;34m.\u001b[0m\u001b[0mdrop\u001b[0m\u001b[0;34m(\u001b[0m\u001b[0mlabels\u001b[0m\u001b[0;34m,\u001b[0m \u001b[0mlevel\u001b[0m\u001b[0;34m=\u001b[0m\u001b[0mlevel\u001b[0m\u001b[0;34m,\u001b[0m \u001b[0merrors\u001b[0m\u001b[0;34m=\u001b[0m\u001b[0merrors\u001b[0m\u001b[0;34m)\u001b[0m\u001b[0;34m\u001b[0m\u001b[0;34m\u001b[0m\u001b[0m\n\u001b[1;32m   3922\u001b[0m             \u001b[0;32melse\u001b[0m\u001b[0;34m:\u001b[0m\u001b[0;34m\u001b[0m\u001b[0;34m\u001b[0m\u001b[0m\n\u001b[0;32m-> 3923\u001b[0;31m                 \u001b[0mnew_axis\u001b[0m \u001b[0;34m=\u001b[0m \u001b[0maxis\u001b[0m\u001b[0;34m.\u001b[0m\u001b[0mdrop\u001b[0m\u001b[0;34m(\u001b[0m\u001b[0mlabels\u001b[0m\u001b[0;34m,\u001b[0m \u001b[0merrors\u001b[0m\u001b[0;34m=\u001b[0m\u001b[0merrors\u001b[0m\u001b[0;34m)\u001b[0m\u001b[0;34m\u001b[0m\u001b[0;34m\u001b[0m\u001b[0m\n\u001b[0m\u001b[1;32m   3924\u001b[0m             \u001b[0mresult\u001b[0m \u001b[0;34m=\u001b[0m \u001b[0mself\u001b[0m\u001b[0;34m.\u001b[0m\u001b[0mreindex\u001b[0m\u001b[0;34m(\u001b[0m\u001b[0;34m**\u001b[0m\u001b[0;34m{\u001b[0m\u001b[0maxis_name\u001b[0m\u001b[0;34m:\u001b[0m \u001b[0mnew_axis\u001b[0m\u001b[0;34m}\u001b[0m\u001b[0;34m)\u001b[0m\u001b[0;34m\u001b[0m\u001b[0;34m\u001b[0m\u001b[0m\n\u001b[1;32m   3925\u001b[0m \u001b[0;34m\u001b[0m\u001b[0m\n",
            "\u001b[0;32m/usr/local/lib/python3.7/dist-packages/pandas/core/indexes/base.py\u001b[0m in \u001b[0;36mdrop\u001b[0;34m(self, labels, errors)\u001b[0m\n\u001b[1;32m   5285\u001b[0m         \u001b[0;32mif\u001b[0m \u001b[0mmask\u001b[0m\u001b[0;34m.\u001b[0m\u001b[0many\u001b[0m\u001b[0;34m(\u001b[0m\u001b[0;34m)\u001b[0m\u001b[0;34m:\u001b[0m\u001b[0;34m\u001b[0m\u001b[0;34m\u001b[0m\u001b[0m\n\u001b[1;32m   5286\u001b[0m             \u001b[0;32mif\u001b[0m \u001b[0merrors\u001b[0m \u001b[0;34m!=\u001b[0m \u001b[0;34m\"ignore\"\u001b[0m\u001b[0;34m:\u001b[0m\u001b[0;34m\u001b[0m\u001b[0;34m\u001b[0m\u001b[0m\n\u001b[0;32m-> 5287\u001b[0;31m                 \u001b[0;32mraise\u001b[0m \u001b[0mKeyError\u001b[0m\u001b[0;34m(\u001b[0m\u001b[0;34mf\"{labels[mask]} not found in axis\"\u001b[0m\u001b[0;34m)\u001b[0m\u001b[0;34m\u001b[0m\u001b[0;34m\u001b[0m\u001b[0m\n\u001b[0m\u001b[1;32m   5288\u001b[0m             \u001b[0mindexer\u001b[0m \u001b[0;34m=\u001b[0m \u001b[0mindexer\u001b[0m\u001b[0;34m[\u001b[0m\u001b[0;34m~\u001b[0m\u001b[0mmask\u001b[0m\u001b[0;34m]\u001b[0m\u001b[0;34m\u001b[0m\u001b[0;34m\u001b[0m\u001b[0m\n\u001b[1;32m   5289\u001b[0m         \u001b[0;32mreturn\u001b[0m \u001b[0mself\u001b[0m\u001b[0;34m.\u001b[0m\u001b[0mdelete\u001b[0m\u001b[0;34m(\u001b[0m\u001b[0mindexer\u001b[0m\u001b[0;34m)\u001b[0m\u001b[0;34m\u001b[0m\u001b[0;34m\u001b[0m\u001b[0m\n",
            "\u001b[0;31mKeyError\u001b[0m: \"['CustomerId' 'RowNumber' 'Surname'] not found in axis\""
          ]
        }
      ]
    },
    {
      "cell_type": "code",
      "source": [
        "df.nunique()"
      ],
      "metadata": {
        "colab": {
          "base_uri": "https://localhost:8080/"
        },
        "id": "4LiCrS_0j5cu",
        "outputId": "17a5cf01-6951-4be1-cd20-568db30eac16"
      },
      "execution_count": 7,
      "outputs": [
        {
          "output_type": "execute_result",
          "data": {
            "text/plain": [
              "CreditScore         460\n",
              "Geography             3\n",
              "Gender                2\n",
              "Age                  70\n",
              "Tenure               11\n",
              "Balance            6382\n",
              "NumOfProducts         4\n",
              "HasCrCard             2\n",
              "IsActiveMember        2\n",
              "EstimatedSalary    9999\n",
              "Exited                2\n",
              "dtype: int64"
            ]
          },
          "metadata": {},
          "execution_count": 7
        }
      ]
    },
    {
      "cell_type": "code",
      "source": [
        "labels = 'Exited(Churned)', 'Retained'\n",
        "sizes = [df.Exited[df['Exited']==1].count(), df.Exited[df['Exited']==0].count()]\n",
        "explode = (0, 0.1)\n",
        "fig1, ax1 = plt.subplots(figsize=(5, 5))\n",
        "ax1.pie(sizes, explode=explode, labels=labels, autopct='%1.1f%%',\n",
        "        shadow=True, startangle=90)\n",
        "ax1.axis('equal')\n",
        "plt.title(\"Proportion of customer churned and retained\", size = 15)\n",
        "plt.show()"
      ],
      "metadata": {
        "colab": {
          "base_uri": "https://localhost:8080/",
          "height": 321
        },
        "id": "i4TabZuyrIDu",
        "outputId": "8835d348-471e-402d-9a90-109a76403bc7"
      },
      "execution_count": 11,
      "outputs": [
        {
          "output_type": "display_data",
          "data": {
            "image/png": "[encoded data removed]",
            "text/plain": [
              "<Figure size 360x360 with 1 Axes>"
            ]
          },
          "metadata": {}
        }
      ]
    },
    {
      "cell_type": "code",
      "source": [
        "# We first review the 'Status' relation with categorical variables\n",
        "fig, axarr = plt.subplots(2, 2, figsize=(20, 12))\n",
        "sns.countplot(x='Geography', hue = 'Exited',data = df, ax=axarr[0][0])\n",
        "sns.countplot(x='Gender', hue = 'Exited',data = df, ax=axarr[0][1])\n",
        "sns.countplot(x='HasCrCard', hue = 'Exited',data = df, ax=axarr[1][0])\n",
        "sns.countplot(x='IsActiveMember', hue = 'Exited',data = df, ax=axarr[1][1])"
      ],
      "metadata": {
        "colab": {
          "base_uri": "https://localhost:8080/",
          "height": 694
        },
        "id": "_hnrVNEcsuRn",
        "outputId": "18d65940-01e7-4fb2-9ea1-63dacd72c034"
      },
      "execution_count": 12,
      "outputs": [
        {
          "output_type": "execute_result",
          "data": {
            "text/plain": [
              "<matplotlib.axes._subplots.AxesSubplot at 0x7f39e0376810>"
            ]
          },
          "metadata": {},
          "execution_count": 12
        },
        {
          "output_type": "display_data",
          "data": {
            "image/png": "[encoded data removed]",
            "text/plain": [
              "<Figure size 1440x864 with 4 Axes>"
            ]
          },
          "metadata": {
            "needs_background": "light"
          }
        }
      ]
    },
    {
      "cell_type": "code",
      "source": [
        "# Relations based on the continuous data attributes\n",
        "fig, axarr = plt.subplots(3, 2, figsize=(20, 12))\n",
        "sns.boxplot(y='CreditScore',x = 'Exited', hue = 'Exited',data = df, ax=axarr[0][0])\n",
        "sns.boxplot(y='Age',x = 'Exited', hue = 'Exited',data = df , ax=axarr[0][1])\n",
        "sns.boxplot(y='Tenure',x = 'Exited', hue = 'Exited',data = df, ax=axarr[1][0])\n",
        "sns.boxplot(y='Balance',x = 'Exited', hue = 'Exited',data = df, ax=axarr[1][1])\n",
        "sns.boxplot(y='NumOfProducts',x = 'Exited', hue = 'Exited',data = df, ax=axarr[2][0])\n",
        "sns.boxplot(y='EstimatedSalary',x = 'Exited', hue = 'Exited',data = df, ax=axarr[2][1])"
      ],
      "metadata": {
        "colab": {
          "base_uri": "https://localhost:8080/",
          "height": 698
        },
        "id": "3htrhy0GsuOD",
        "outputId": "89e9a253-2e0b-4f61-e5cc-7fcb32d7dd8b"
      },
      "execution_count": 13,
      "outputs": [
        {
          "output_type": "execute_result",
          "data": {
            "text/plain": [
              "<matplotlib.axes._subplots.AxesSubplot at 0x7f39e0137990>"
            ]
          },
          "metadata": {},
          "execution_count": 13
        },
        {
          "output_type": "display_data",
          "data": {
            "image/png": "[encoded data removed]",
            "text/plain": [
              "<Figure size 1440x864 with 6 Axes>"
            ]
          },
          "metadata": {
            "needs_background": "light"
          }
        }
      ]
    },
    {
      "cell_type": "code",
      "source": [
        "tenure_churn_no = df[df.Exited==0].Tenure\n",
        "tenure_churn_yes = df[df.Exited==1].Tenure\n",
        "\n",
        "plt.xlabel(\"tenure\")\n",
        "plt.ylabel(\"Number Of Customers\")\n",
        "plt.title(\"Customer Churn Prediction Visualiztion\")\n",
        "\n",
        "plt.hist([tenure_churn_yes, tenure_churn_no], rwidth=0.95, color=['red','green'],label=['Churn=Yes','Churn=No'])\n",
        "plt.legend()"
      ],
      "metadata": {
        "colab": {
          "base_uri": "https://localhost:8080/",
          "height": 367
        },
        "id": "CyPgwHWatxnA",
        "outputId": "a329cd81-74e5-4855-f227-74af86804061"
      },
      "execution_count": 14,
      "outputs": [
        {
          "output_type": "stream",
          "name": "stderr",
          "text": [
            "/usr/local/lib/python3.7/dist-packages/numpy/core/_asarray.py:83: VisibleDeprecationWarning: Creating an ndarray from ragged nested sequences (which is a list-or-tuple of lists-or-tuples-or ndarrays with different lengths or shapes) is deprecated. If you meant to do this, you must specify 'dtype=object' when creating the ndarray\n",
            "  return array(a, dtype, copy=False, order=order)\n"
          ]
        },
        {
          "output_type": "execute_result",
          "data": {
            "text/plain": [
              "<matplotlib.legend.Legend at 0x7f39e02e36d0>"
            ]
          },
          "metadata": {},
          "execution_count": 14
        },
        {
          "output_type": "display_data",
          "data": {
            "image/png": "[encoded data removed]",
            "text/plain": [
              "<Figure size 432x288 with 1 Axes>"
            ]
          },
          "metadata": {
            "needs_background": "light"
          }
        }
      ]
    },
    {
      "cell_type": "markdown",
      "source": [
        "## Feature Engineerig"
      ],
      "metadata": {
        "id": "0-GV3B5Xtrom"
      }
    },
    {
      "cell_type": "markdown",
      "source": [
        "Making a new column BalanceSalaryRatio"
      ],
      "metadata": {
        "id": "1PDp99LLt0wY"
      }
    },
    {
      "cell_type": "code",
      "source": [
        "df['BalanceSalaryRatio'] = df.Balance/df.EstimatedSalary\n",
        "sns.boxplot(y='BalanceSalaryRatio',x = 'Exited', hue = 'Exited',data = df)\n",
        "plt.ylim(-1, 5)"
      ],
      "metadata": {
        "colab": {
          "base_uri": "https://localhost:8080/",
          "height": 300
        },
        "id": "EVpM1i1IsuLT",
        "outputId": "22f00a3f-645c-4e95-f929-0968fb227c53"
      },
      "execution_count": 15,
      "outputs": [
        {
          "output_type": "execute_result",
          "data": {
            "text/plain": [
              "(-1.0, 5.0)"
            ]
          },
          "metadata": {},
          "execution_count": 15
        },
        {
          "output_type": "display_data",
          "data": {
            "image/png": "[encoded data removed]",
            "text/plain": [
              "<Figure size 432x288 with 1 Axes>"
            ]
          },
          "metadata": {
            "needs_background": "light"
          }
        }
      ]
    },
    {
      "cell_type": "markdown",
      "source": [
        "Making a new column  TenureByAge"
      ],
      "metadata": {
        "id": "YNGUEl-VuDxH"
      }
    },
    {
      "cell_type": "code",
      "source": [
        "df['TenureByAge'] = df.Tenure/(df.Age)\n",
        "sns.boxplot(y='TenureByAge',x = 'Exited', hue = 'Exited',data = df)\n",
        "plt.ylim(-1, 1)\n",
        "plt.show()"
      ],
      "metadata": {
        "colab": {
          "base_uri": "https://localhost:8080/",
          "height": 283
        },
        "id": "h4spLnTNt5Tk",
        "outputId": "03f5d649-a3a7-4b12-cb38-a8a3c9e4d061"
      },
      "execution_count": 16,
      "outputs": [
        {
          "output_type": "display_data",
          "data": {
            "image/png": "[encoded data removed]",
            "text/plain": [
              "<Figure size 432x288 with 1 Axes>"
            ]
          },
          "metadata": {
            "needs_background": "light"
          }
        }
      ]
    },
    {
      "cell_type": "markdown",
      "source": [
        "Printing the categorical variables"
      ],
      "metadata": {
        "id": "1wq8dPjpuMQp"
      }
    },
    {
      "cell_type": "code",
      "source": [
        "def print_unique_col_values(df):\n",
        "       for column in df:\n",
        "            if df[column].dtypes=='object':\n",
        "                print(f'{column}: {df[column].unique()}')"
      ],
      "metadata": {
        "id": "LSt_hi18uChi"
      },
      "execution_count": 17,
      "outputs": []
    },
    {
      "cell_type": "code",
      "source": [
        "print_unique_col_values(df)"
      ],
      "metadata": {
        "colab": {
          "base_uri": "https://localhost:8080/"
        },
        "id": "iI6Ly-sluOhl",
        "outputId": "73a18213-2c23-4756-f78a-8966a8181433"
      },
      "execution_count": 18,
      "outputs": [
        {
          "output_type": "stream",
          "name": "stdout",
          "text": [
            "Geography: ['France' 'Spain' 'Germany']\n",
            "Gender: ['Female' 'Male']\n"
          ]
        }
      ]
    },
    {
      "cell_type": "markdown",
      "source": [
        "###Label Encoding"
      ],
      "metadata": {
        "id": "KSgDhIw8uV2y"
      }
    },
    {
      "cell_type": "code",
      "source": [
        "df['Gender'].replace({'Male': 1,'Female': 0},inplace=True)"
      ],
      "metadata": {
        "id": "rjGFTUtDuTJw"
      },
      "execution_count": 19,
      "outputs": []
    },
    {
      "cell_type": "markdown",
      "source": [
        "One Hot Encoding method"
      ],
      "metadata": {
        "id": "4vS8rK-xufSd"
      }
    },
    {
      "cell_type": "code",
      "source": [
        "df1 = pd.get_dummies(data=df, columns=['Geography'])\n",
        "df1.head(2)"
      ],
      "metadata": {
        "colab": {
          "base_uri": "https://localhost:8080/",
          "height": 176
        },
        "id": "7OFigXGquc6D",
        "outputId": "7f2945bf-6b70-4388-e716-ab2eb75dd738"
      },
      "execution_count": 20,
      "outputs": [
        {
          "output_type": "execute_result",
          "data": {
            "text/html": [
              "\n",
              "  <div id=\"df-0c943901-26bc-4852-a75d-7306fbf99f9a\">\n",
              "    <div class=\"colab-df-container\">\n",
              "      <div>\n",
              "<style scoped>\n",
              "    .dataframe tbody tr th:only-of-type {\n",
              "        vertical-align: middle;\n",
              "    }\n",
              "\n",
              "    .dataframe tbody tr th {\n",
              "        vertical-align: top;\n",
              "    }\n",
              "\n",
              "    .dataframe thead th {\n",
              "        text-align: right;\n",
              "    }\n",
              "</style>\n",
              "<table border=\"1\" class=\"dataframe\">\n",
              "  <thead>\n",
              "    <tr style=\"text-align: right;\">\n",
              "      <th></th>\n",
              "      <th>CreditScore</th>\n",
              "      <th>Gender</th>\n",
              "      <th>Age</th>\n",
              "      <th>Tenure</th>\n",
              "      <th>Balance</th>\n",
              "      <th>NumOfProducts</th>\n",
              "      <th>HasCrCard</th>\n",
              "      <th>IsActiveMember</th>\n",
              "      <th>EstimatedSalary</th>\n",
              "      <th>Exited</th>\n",
              "      <th>BalanceSalaryRatio</th>\n",
              "      <th>TenureByAge</th>\n",
              "      <th>Geography_France</th>\n",
              "      <th>Geography_Germany</th>\n",
              "      <th>Geography_Spain</th>\n",
              "    </tr>\n",
              "  </thead>\n",
              "  <tbody>\n",
              "    <tr>\n",
              "      <th>0</th>\n",
              "      <td>619</td>\n",
              "      <td>0</td>\n",
              "      <td>42</td>\n",
              "      <td>2</td>\n",
              "      <td>0.00</td>\n",
              "      <td>1</td>\n",
              "      <td>1</td>\n",
              "      <td>1</td>\n",
              "      <td>101348.88</td>\n",
              "      <td>1</td>\n",
              "      <td>0.000000</td>\n",
              "      <td>0.047619</td>\n",
              "      <td>1</td>\n",
              "      <td>0</td>\n",
              "      <td>0</td>\n",
              "    </tr>\n",
              "    <tr>\n",
              "      <th>1</th>\n",
              "      <td>608</td>\n",
              "      <td>0</td>\n",
              "      <td>41</td>\n",
              "      <td>1</td>\n",
              "      <td>83807.86</td>\n",
              "      <td>1</td>\n",
              "      <td>0</td>\n",
              "      <td>1</td>\n",
              "      <td>112542.58</td>\n",
              "      <td>0</td>\n",
              "      <td>0.744677</td>\n",
              "      <td>0.024390</td>\n",
              "      <td>0</td>\n",
              "      <td>0</td>\n",
              "      <td>1</td>\n",
              "    </tr>\n",
              "  </tbody>\n",
              "</table>\n",
              "</div>\n",
              "      <button class=\"colab-df-convert\" onclick=\"convertToInteractive('df-0c943901-26bc-4852-a75d-7306fbf99f9a')\"\n",
              "              title=\"Convert this dataframe to an interactive table.\"\n",
              "              style=\"display:none;\">\n",
              "        \n",
              "  <svg xmlns=\"http://www.w3.org/2000/svg\" height=\"24px\"viewBox=\"0 0 24 24\"\n",
              "       width=\"24px\">\n",
              "    <path d=\"M0 0h24v24H0V0z\" fill=\"none\"/>\n",
              "    <path d=\"M18.56 5.44l.94 2.06.94-2.06 2.06-.94-2.06-.94-.94-2.06-.94 2.06-2.06.94zm-11 1L8.5 8.5l.94-2.06 2.06-.94-2.06-.94L8.5 2.5l-.94 2.06-2.06.94zm10 10l.94 2.06.94-2.06 2.06-.94-2.06-.94-.94-2.06-.94 2.06-2.06.94z\"/><path d=\"M17.41 7.96l-1.37-1.37c-.4-.4-.92-.59-1.43-.59-.52 0-1.04.2-1.43.59L10.3 9.45l-7.72 7.72c-.78.78-.78 2.05 0 2.83L4 21.41c.39.39.9.59 1.41.59.51 0 1.02-.2 1.41-.59l7.78-7.78 2.81-2.81c.8-.78.8-2.07 0-2.86zM5.41 20L4 18.59l7.72-7.72 1.47 1.35L5.41 20z\"/>\n",
              "  </svg>\n",
              "      </button>\n",
              "      \n",
              "  <style>\n",
              "    .colab-df-container {\n",
              "      display:flex;\n",
              "      flex-wrap:wrap;\n",
              "      gap: 12px;\n",
              "    }\n",
              "\n",
              "    .colab-df-convert {\n",
              "      background-color: #E8F0FE;\n",
              "      border: none;\n",
              "      border-radius: 50%;\n",
              "      cursor: pointer;\n",
              "      display: none;\n",
              "      fill: #1967D2;\n",
              "      height: 32px;\n",
              "      padding: 0 0 0 0;\n",
              "      width: 32px;\n",
              "    }\n",
              "\n",
              "    .colab-df-convert:hover {\n",
              "      background-color: #E2EBFA;\n",
              "      box-shadow: 0px 1px 2px rgba(60, 64, 67, 0.3), 0px 1px 3px 1px rgba(60, 64, 67, 0.15);\n",
              "      fill: #174EA6;\n",
              "    }\n",
              "\n",
              "    [theme=dark] .colab-df-convert {\n",
              "      background-color: #3B4455;\n",
              "      fill: #D2E3FC;\n",
              "    }\n",
              "\n",
              "    [theme=dark] .colab-df-convert:hover {\n",
              "      background-color: #434B5C;\n",
              "      box-shadow: 0px 1px 3px 1px rgba(0, 0, 0, 0.15);\n",
              "      filter: drop-shadow(0px 1px 2px rgba(0, 0, 0, 0.3));\n",
              "      fill: #FFFFFF;\n",
              "    }\n",
              "  </style>\n",
              "\n",
              "      <script>\n",
              "        const buttonEl =\n",
              "          document.querySelector('#df-0c943901-26bc-4852-a75d-7306fbf99f9a button.colab-df-convert');\n",
              "        buttonEl.style.display =\n",
              "          google.colab.kernel.accessAllowed ? 'block' : 'none';\n",
              "\n",
              "        async function convertToInteractive(key) {\n",
              "          const element = document.querySelector('#df-0c943901-26bc-4852-a75d-7306fbf99f9a');\n",
              "          const dataTable =\n",
              "            await google.colab.kernel.invokeFunction('convertToInteractive',\n",
              "                                                     [key], {});\n",
              "          if (!dataTable) return;\n",
              "\n",
              "          const docLinkHtml = 'Like what you see? Visit the ' +\n",
              "            '<a target=\"_blank\" href=https://colab.research.google.com/notebooks/data_table.ipynb>data table notebook</a>'\n",
              "            + ' to learn more about interactive tables.';\n",
              "          element.innerHTML = '';\n",
              "          dataTable['output_type'] = 'display_data';\n",
              "          await google.colab.output.renderOutput(dataTable, element);\n",
              "          const docLink = document.createElement('div');\n",
              "          docLink.innerHTML = docLinkHtml;\n",
              "          element.appendChild(docLink);\n",
              "        }\n",
              "      </script>\n",
              "    </div>\n",
              "  </div>\n",
              "  "
            ],
            "text/plain": [
              "   CreditScore  Gender  ...  Geography_Germany  Geography_Spain\n",
              "0          619       0  ...                  0                0\n",
              "1          608       0  ...                  0                1\n",
              "\n",
              "[2 rows x 15 columns]"
            ]
          },
          "metadata": {},
          "execution_count": 20
        }
      ]
    },
    {
      "cell_type": "code",
      "source": [
        "scale_var = ['Tenure','CreditScore','Age','Balance','NumOfProducts','EstimatedSalary']\n",
        "\n",
        "scaler = MinMaxScaler()\n",
        "df1[scale_var] = scaler.fit_transform(df1[scale_var])"
      ],
      "metadata": {
        "id": "hNonpztBur-k"
      },
      "execution_count": 21,
      "outputs": []
    },
    {
      "cell_type": "code",
      "source": [
        "df1.head(2)"
      ],
      "metadata": {
        "colab": {
          "base_uri": "https://localhost:8080/",
          "height": 176
        },
        "id": "zr0y6KEYu4FZ",
        "outputId": "291b9741-889f-4c9f-ef38-cb418084b607"
      },
      "execution_count": 22,
      "outputs": [
        {
          "output_type": "execute_result",
          "data": {
            "text/html": [
              "\n",
              "  <div id=\"df-1b4fd530-468d-4a3d-8d2b-bf3f95e04428\">\n",
              "    <div class=\"colab-df-container\">\n",
              "      <div>\n",
              "<style scoped>\n",
              "    .dataframe tbody tr th:only-of-type {\n",
              "        vertical-align: middle;\n",
              "    }\n",
              "\n",
              "    .dataframe tbody tr th {\n",
              "        vertical-align: top;\n",
              "    }\n",
              "\n",
              "    .dataframe thead th {\n",
              "        text-align: right;\n",
              "    }\n",
              "</style>\n",
              "<table border=\"1\" class=\"dataframe\">\n",
              "  <thead>\n",
              "    <tr style=\"text-align: right;\">\n",
              "      <th></th>\n",
              "      <th>CreditScore</th>\n",
              "      <th>Gender</th>\n",
              "      <th>Age</th>\n",
              "      <th>Tenure</th>\n",
              "      <th>Balance</th>\n",
              "      <th>NumOfProducts</th>\n",
              "      <th>HasCrCard</th>\n",
              "      <th>IsActiveMember</th>\n",
              "      <th>EstimatedSalary</th>\n",
              "      <th>Exited</th>\n",
              "      <th>BalanceSalaryRatio</th>\n",
              "      <th>TenureByAge</th>\n",
              "      <th>Geography_France</th>\n",
              "      <th>Geography_Germany</th>\n",
              "      <th>Geography_Spain</th>\n",
              "    </tr>\n",
              "  </thead>\n",
              "  <tbody>\n",
              "    <tr>\n",
              "      <th>0</th>\n",
              "      <td>0.538</td>\n",
              "      <td>0</td>\n",
              "      <td>0.324324</td>\n",
              "      <td>0.2</td>\n",
              "      <td>0.000000</td>\n",
              "      <td>0.0</td>\n",
              "      <td>1</td>\n",
              "      <td>1</td>\n",
              "      <td>0.506735</td>\n",
              "      <td>1</td>\n",
              "      <td>0.000000</td>\n",
              "      <td>0.047619</td>\n",
              "      <td>1</td>\n",
              "      <td>0</td>\n",
              "      <td>0</td>\n",
              "    </tr>\n",
              "    <tr>\n",
              "      <th>1</th>\n",
              "      <td>0.516</td>\n",
              "      <td>0</td>\n",
              "      <td>0.310811</td>\n",
              "      <td>0.1</td>\n",
              "      <td>0.334031</td>\n",
              "      <td>0.0</td>\n",
              "      <td>0</td>\n",
              "      <td>1</td>\n",
              "      <td>0.562709</td>\n",
              "      <td>0</td>\n",
              "      <td>0.744677</td>\n",
              "      <td>0.024390</td>\n",
              "      <td>0</td>\n",
              "      <td>0</td>\n",
              "      <td>1</td>\n",
              "    </tr>\n",
              "  </tbody>\n",
              "</table>\n",
              "</div>\n",
              "      <button class=\"colab-df-convert\" onclick=\"convertToInteractive('df-1b4fd530-468d-4a3d-8d2b-bf3f95e04428')\"\n",
              "              title=\"Convert this dataframe to an interactive table.\"\n",
              "              style=\"display:none;\">\n",
              "        \n",
              "  <svg xmlns=\"http://www.w3.org/2000/svg\" height=\"24px\"viewBox=\"0 0 24 24\"\n",
              "       width=\"24px\">\n",
              "    <path d=\"M0 0h24v24H0V0z\" fill=\"none\"/>\n",
              "    <path d=\"M18.56 5.44l.94 2.06.94-2.06 2.06-.94-2.06-.94-.94-2.06-.94 2.06-2.06.94zm-11 1L8.5 8.5l.94-2.06 2.06-.94-2.06-.94L8.5 2.5l-.94 2.06-2.06.94zm10 10l.94 2.06.94-2.06 2.06-.94-2.06-.94-.94-2.06-.94 2.06-2.06.94z\"/><path d=\"M17.41 7.96l-1.37-1.37c-.4-.4-.92-.59-1.43-.59-.52 0-1.04.2-1.43.59L10.3 9.45l-7.72 7.72c-.78.78-.78 2.05 0 2.83L4 21.41c.39.39.9.59 1.41.59.51 0 1.02-.2 1.41-.59l7.78-7.78 2.81-2.81c.8-.78.8-2.07 0-2.86zM5.41 20L4 18.59l7.72-7.72 1.47 1.35L5.41 20z\"/>\n",
              "  </svg>\n",
              "      </button>\n",
              "      \n",
              "  <style>\n",
              "    .colab-df-container {\n",
              "      display:flex;\n",
              "      flex-wrap:wrap;\n",
              "      gap: 12px;\n",
              "    }\n",
              "\n",
              "    .colab-df-convert {\n",
              "      background-color: #E8F0FE;\n",
              "      border: none;\n",
              "      border-radius: 50%;\n",
              "      cursor: pointer;\n",
              "      display: none;\n",
              "      fill: #1967D2;\n",
              "      height: 32px;\n",
              "      padding: 0 0 0 0;\n",
              "      width: 32px;\n",
              "    }\n",
              "\n",
              "    .colab-df-convert:hover {\n",
              "      background-color: #E2EBFA;\n",
              "      box-shadow: 0px 1px 2px rgba(60, 64, 67, 0.3), 0px 1px 3px 1px rgba(60, 64, 67, 0.15);\n",
              "      fill: #174EA6;\n",
              "    }\n",
              "\n",
              "    [theme=dark] .colab-df-convert {\n",
              "      background-color: #3B4455;\n",
              "      fill: #D2E3FC;\n",
              "    }\n",
              "\n",
              "    [theme=dark] .colab-df-convert:hover {\n",
              "      background-color: #434B5C;\n",
              "      box-shadow: 0px 1px 3px 1px rgba(0, 0, 0, 0.15);\n",
              "      filter: drop-shadow(0px 1px 2px rgba(0, 0, 0, 0.3));\n",
              "      fill: #FFFFFF;\n",
              "    }\n",
              "  </style>\n",
              "\n",
              "      <script>\n",
              "        const buttonEl =\n",
              "          document.querySelector('#df-1b4fd530-468d-4a3d-8d2b-bf3f95e04428 button.colab-df-convert');\n",
              "        buttonEl.style.display =\n",
              "          google.colab.kernel.accessAllowed ? 'block' : 'none';\n",
              "\n",
              "        async function convertToInteractive(key) {\n",
              "          const element = document.querySelector('#df-1b4fd530-468d-4a3d-8d2b-bf3f95e04428');\n",
              "          const dataTable =\n",
              "            await google.colab.kernel.invokeFunction('convertToInteractive',\n",
              "                                                     [key], {});\n",
              "          if (!dataTable) return;\n",
              "\n",
              "          const docLinkHtml = 'Like what you see? Visit the ' +\n",
              "            '<a target=\"_blank\" href=https://colab.research.google.com/notebooks/data_table.ipynb>data table notebook</a>'\n",
              "            + ' to learn more about interactive tables.';\n",
              "          element.innerHTML = '';\n",
              "          dataTable['output_type'] = 'display_data';\n",
              "          await google.colab.output.renderOutput(dataTable, element);\n",
              "          const docLink = document.createElement('div');\n",
              "          docLink.innerHTML = docLinkHtml;\n",
              "          element.appendChild(docLink);\n",
              "        }\n",
              "      </script>\n",
              "    </div>\n",
              "  </div>\n",
              "  "
            ],
            "text/plain": [
              "   CreditScore  Gender  ...  Geography_Germany  Geography_Spain\n",
              "0        0.538       0  ...                  0                0\n",
              "1        0.516       0  ...                  0                1\n",
              "\n",
              "[2 rows x 15 columns]"
            ]
          },
          "metadata": {},
          "execution_count": 22
        }
      ]
    },
    {
      "cell_type": "code",
      "source": [
        "X = df1.drop('Exited',axis='columns')  ##independent features\n",
        "y = df1['Exited']  ##dependent feature\n",
        "\n",
        "from sklearn.model_selection import train_test_split\n",
        "X_train, X_test, y_train, y_test = train_test_split(X,y,test_size=0.2,random_state=5)"
      ],
      "metadata": {
        "id": "HsumjFjwu4B7"
      },
      "execution_count": 23,
      "outputs": []
    },
    {
      "cell_type": "code",
      "source": [
        "len(X_train.columns)"
      ],
      "metadata": {
        "colab": {
          "base_uri": "https://localhost:8080/"
        },
        "id": "EtgUoDI0vAmN",
        "outputId": "8e9d776b-5fc5-4f4b-cd9d-bc107131c6cb"
      },
      "execution_count": 24,
      "outputs": [
        {
          "output_type": "execute_result",
          "data": {
            "text/plain": [
              "14"
            ]
          },
          "metadata": {},
          "execution_count": 24
        }
      ]
    },
    {
      "cell_type": "markdown",
      "source": [
        "##Model Building and Prediction"
      ],
      "metadata": {
        "id": "2qtE8QXTvF4s"
      }
    },
    {
      "cell_type": "markdown",
      "source": [
        "### The Sequential model\n",
        "\n",
        "A Sequential model is appropriate for a plain stack of layers where each layer has exactly one input tensor and one output tensor"
      ],
      "metadata": {
        "id": "ppdfq9kZvJz1"
      }
    },
    {
      "cell_type": "markdown",
      "source": [
        "## A Sequential model is not appropriate when:\n",
        "\n",
        "*   Your model has multiple inputs or multiple outputs\n",
        "*   Any of your layers has multiple inputs or multiple outputs\n",
        "*   You need to do layer sharing\n",
        "*   You want non-linear topology (e.g. a residual connection, a multi-branch model)\n"
      ],
      "metadata": {
        "id": "WfT9BjWpvR_V"
      }
    },
    {
      "cell_type": "code",
      "source": [
        "\n",
        "model = keras.Sequential([\n",
        "    keras.layers.Dense(12, input_shape=(None,32,14), activation='relu'),\n",
        "    keras.layers.Dense(6, activation='relu'),\n",
        "    keras.layers.Dense(1, activation='sigmoid')\n",
        "])\n",
        "\n",
        "\n",
        "model.compile(optimizer='adam',\n",
        "              loss='binary_crossentropy',\n",
        "              metrics=['accuracy'])\n",
        "\n",
        "model.fit(X_train, y_train, epochs=100)"
      ],
      "metadata": {
        "colab": {
          "base_uri": "https://localhost:8080/"
        },
        "id": "uWCLSRQ_vCj1",
        "outputId": "22946350-c776-4d25-d26f-49c2c6748f3a"
      },
      "execution_count": 27,
      "outputs": [
        {
          "output_type": "stream",
          "name": "stdout",
          "text": [
            "Epoch 1/100\n",
            "WARNING:tensorflow:Model was constructed with shape (None, None, 32, 14) for input KerasTensor(type_spec=TensorSpec(shape=(None, None, 32, 14), dtype=tf.float32, name='dense_3_input'), name='dense_3_input', description=\"created by layer 'dense_3_input'\"), but it was called on an input with incompatible shape (32, 14).\n",
            "WARNING:tensorflow:Model was constructed with shape (None, None, 32, 14) for input KerasTensor(type_spec=TensorSpec(shape=(None, None, 32, 14), dtype=tf.float32, name='dense_3_input'), name='dense_3_input', description=\"created by layer 'dense_3_input'\"), but it was called on an input with incompatible shape (32, 14).\n",
            "250/250 [==============================] - 1s 2ms/step - loss: 0.5380 - accuracy: 0.7815\n",
            "Epoch 2/100\n",
            "250/250 [==============================] - 0s 2ms/step - loss: 0.4882 - accuracy: 0.7944\n",
            "Epoch 3/100\n",
            "250/250 [==============================] - 0s 2ms/step - loss: 0.4733 - accuracy: 0.7971\n",
            "Epoch 4/100\n",
            "250/250 [==============================] - 0s 2ms/step - loss: 0.4753 - accuracy: 0.7964\n",
            "Epoch 5/100\n",
            "250/250 [==============================] - 0s 2ms/step - loss: 0.4960 - accuracy: 0.7905\n",
            "Epoch 6/100\n",
            "250/250 [==============================] - 0s 2ms/step - loss: 0.4415 - accuracy: 0.8055\n",
            "Epoch 7/100\n",
            "250/250 [==============================] - 0s 2ms/step - loss: 0.4541 - accuracy: 0.8106\n",
            "Epoch 8/100\n",
            "250/250 [==============================] - 0s 2ms/step - loss: 0.4263 - accuracy: 0.8188\n",
            "Epoch 9/100\n",
            "250/250 [==============================] - 0s 2ms/step - loss: 0.5040 - accuracy: 0.8152\n",
            "Epoch 10/100\n",
            "250/250 [==============================] - 0s 2ms/step - loss: 0.4370 - accuracy: 0.8210\n",
            "Epoch 11/100\n",
            "250/250 [==============================] - 0s 2ms/step - loss: 0.4125 - accuracy: 0.8248\n",
            "Epoch 12/100\n",
            "250/250 [==============================] - 0s 2ms/step - loss: 0.4110 - accuracy: 0.8232\n",
            "Epoch 13/100\n",
            "250/250 [==============================] - 0s 1ms/step - loss: 0.4094 - accuracy: 0.8251\n",
            "Epoch 14/100\n",
            "250/250 [==============================] - 0s 2ms/step - loss: 0.4088 - accuracy: 0.8241\n",
            "Epoch 15/100\n",
            "250/250 [==============================] - 0s 2ms/step - loss: 0.4455 - accuracy: 0.8223\n",
            "Epoch 16/100\n",
            "250/250 [==============================] - 0s 2ms/step - loss: 0.4784 - accuracy: 0.8163\n",
            "Epoch 17/100\n",
            "250/250 [==============================] - 0s 1ms/step - loss: 0.4180 - accuracy: 0.8248\n",
            "Epoch 18/100\n",
            "250/250 [==============================] - 0s 2ms/step - loss: 0.4038 - accuracy: 0.8270\n",
            "Epoch 19/100\n",
            "250/250 [==============================] - 0s 2ms/step - loss: 0.4031 - accuracy: 0.8270\n",
            "Epoch 20/100\n",
            "250/250 [==============================] - 0s 2ms/step - loss: 0.4213 - accuracy: 0.8241\n",
            "Epoch 21/100\n",
            "250/250 [==============================] - 0s 2ms/step - loss: 0.4237 - accuracy: 0.8265\n",
            "Epoch 22/100\n",
            "250/250 [==============================] - 0s 1ms/step - loss: 0.4340 - accuracy: 0.8235\n",
            "Epoch 23/100\n",
            "250/250 [==============================] - 0s 2ms/step - loss: 0.4483 - accuracy: 0.8210\n",
            "Epoch 24/100\n",
            "250/250 [==============================] - 0s 2ms/step - loss: 0.4080 - accuracy: 0.8261\n",
            "Epoch 25/100\n",
            "250/250 [==============================] - 0s 2ms/step - loss: 0.3995 - accuracy: 0.8260\n",
            "Epoch 26/100\n",
            "250/250 [==============================] - 0s 2ms/step - loss: 0.3994 - accuracy: 0.8294\n",
            "Epoch 27/100\n",
            "250/250 [==============================] - 0s 2ms/step - loss: 0.3990 - accuracy: 0.8291\n",
            "Epoch 28/100\n",
            "250/250 [==============================] - 0s 2ms/step - loss: 0.3986 - accuracy: 0.8291\n",
            "Epoch 29/100\n",
            "250/250 [==============================] - 0s 2ms/step - loss: 0.3972 - accuracy: 0.8298\n",
            "Epoch 30/100\n",
            "250/250 [==============================] - 0s 2ms/step - loss: 0.3975 - accuracy: 0.8294\n",
            "Epoch 31/100\n",
            "250/250 [==============================] - 0s 2ms/step - loss: 0.3985 - accuracy: 0.8288\n",
            "Epoch 32/100\n",
            "250/250 [==============================] - 0s 2ms/step - loss: 0.3960 - accuracy: 0.8276\n",
            "Epoch 33/100\n",
            "250/250 [==============================] - 0s 2ms/step - loss: 0.3959 - accuracy: 0.8296\n",
            "Epoch 34/100\n",
            "250/250 [==============================] - 0s 2ms/step - loss: 0.4234 - accuracy: 0.8276\n",
            "Epoch 35/100\n",
            "250/250 [==============================] - 0s 2ms/step - loss: 0.4298 - accuracy: 0.8299\n",
            "Epoch 36/100\n",
            "250/250 [==============================] - 0s 2ms/step - loss: 0.3934 - accuracy: 0.8306\n",
            "Epoch 37/100\n",
            "250/250 [==============================] - 0s 2ms/step - loss: 0.3904 - accuracy: 0.8335\n",
            "Epoch 38/100\n",
            "250/250 [==============================] - 0s 2ms/step - loss: 0.3898 - accuracy: 0.8339\n",
            "Epoch 39/100\n",
            "250/250 [==============================] - 0s 2ms/step - loss: 0.3887 - accuracy: 0.8346\n",
            "Epoch 40/100\n",
            "250/250 [==============================] - 0s 1ms/step - loss: 0.3874 - accuracy: 0.8350\n",
            "Epoch 41/100\n",
            "250/250 [==============================] - 0s 1ms/step - loss: 0.3860 - accuracy: 0.8359\n",
            "Epoch 42/100\n",
            "250/250 [==============================] - 0s 2ms/step - loss: 0.3842 - accuracy: 0.8360\n",
            "Epoch 43/100\n",
            "250/250 [==============================] - 0s 2ms/step - loss: 0.3824 - accuracy: 0.8378\n",
            "Epoch 44/100\n",
            "250/250 [==============================] - 0s 2ms/step - loss: 0.3815 - accuracy: 0.8393\n",
            "Epoch 45/100\n",
            "250/250 [==============================] - 0s 2ms/step - loss: 0.3830 - accuracy: 0.8385\n",
            "Epoch 46/100\n",
            "250/250 [==============================] - 0s 2ms/step - loss: 0.3791 - accuracy: 0.8378\n",
            "Epoch 47/100\n",
            "250/250 [==============================] - 0s 2ms/step - loss: 0.3767 - accuracy: 0.8410\n",
            "Epoch 48/100\n",
            "250/250 [==============================] - 0s 2ms/step - loss: 0.3761 - accuracy: 0.8422\n",
            "Epoch 49/100\n",
            "250/250 [==============================] - 0s 1ms/step - loss: 0.3734 - accuracy: 0.8416\n",
            "Epoch 50/100\n",
            "250/250 [==============================] - 0s 2ms/step - loss: 0.3810 - accuracy: 0.8426\n",
            "Epoch 51/100\n",
            "250/250 [==============================] - 0s 2ms/step - loss: 0.4155 - accuracy: 0.8399\n",
            "Epoch 52/100\n",
            "250/250 [==============================] - 0s 1ms/step - loss: 0.3697 - accuracy: 0.8464\n",
            "Epoch 53/100\n",
            "250/250 [==============================] - 0s 2ms/step - loss: 0.3638 - accuracy: 0.8469\n",
            "Epoch 54/100\n",
            "250/250 [==============================] - 0s 2ms/step - loss: 0.3609 - accuracy: 0.8506\n",
            "Epoch 55/100\n",
            "250/250 [==============================] - 0s 2ms/step - loss: 0.3784 - accuracy: 0.8490\n",
            "Epoch 56/100\n",
            "250/250 [==============================] - 0s 2ms/step - loss: 0.3814 - accuracy: 0.8511\n",
            "Epoch 57/100\n",
            "250/250 [==============================] - 0s 1ms/step - loss: 0.3541 - accuracy: 0.8558\n",
            "Epoch 58/100\n",
            "250/250 [==============================] - 0s 2ms/step - loss: 0.3515 - accuracy: 0.8561\n",
            "Epoch 59/100\n",
            "250/250 [==============================] - 0s 2ms/step - loss: 0.3499 - accuracy: 0.8569\n",
            "Epoch 60/100\n",
            "250/250 [==============================] - 0s 2ms/step - loss: 0.3486 - accuracy: 0.8575\n",
            "Epoch 61/100\n",
            "250/250 [==============================] - 0s 2ms/step - loss: 0.3499 - accuracy: 0.8559\n",
            "Epoch 62/100\n",
            "250/250 [==============================] - 0s 2ms/step - loss: 0.3449 - accuracy: 0.8595\n",
            "Epoch 63/100\n",
            "250/250 [==============================] - 0s 2ms/step - loss: 0.3457 - accuracy: 0.8596\n",
            "Epoch 64/100\n",
            "250/250 [==============================] - 0s 2ms/step - loss: 0.3451 - accuracy: 0.8597\n",
            "Epoch 65/100\n",
            "250/250 [==============================] - 0s 2ms/step - loss: 0.3471 - accuracy: 0.8579\n",
            "Epoch 66/100\n",
            "250/250 [==============================] - 0s 2ms/step - loss: 0.3458 - accuracy: 0.8580\n",
            "Epoch 67/100\n",
            "250/250 [==============================] - 0s 2ms/step - loss: 0.3435 - accuracy: 0.8604\n",
            "Epoch 68/100\n",
            "250/250 [==============================] - 0s 2ms/step - loss: 0.3686 - accuracy: 0.8580\n",
            "Epoch 69/100\n",
            "250/250 [==============================] - 0s 2ms/step - loss: 0.4231 - accuracy: 0.8531\n",
            "Epoch 70/100\n",
            "250/250 [==============================] - 0s 2ms/step - loss: 0.3711 - accuracy: 0.8572\n",
            "Epoch 71/100\n",
            "250/250 [==============================] - 0s 2ms/step - loss: 0.3457 - accuracy: 0.8602\n",
            "Epoch 72/100\n",
            "250/250 [==============================] - 0s 2ms/step - loss: 0.3445 - accuracy: 0.8611\n",
            "Epoch 73/100\n",
            "250/250 [==============================] - 0s 2ms/step - loss: 0.3435 - accuracy: 0.8605\n",
            "Epoch 74/100\n",
            "250/250 [==============================] - 0s 2ms/step - loss: 0.3441 - accuracy: 0.8611\n",
            "Epoch 75/100\n",
            "250/250 [==============================] - 0s 2ms/step - loss: 0.3478 - accuracy: 0.8602\n",
            "Epoch 76/100\n",
            "250/250 [==============================] - 0s 2ms/step - loss: 0.3435 - accuracy: 0.8602\n",
            "Epoch 77/100\n",
            "250/250 [==============================] - 0s 2ms/step - loss: 0.3415 - accuracy: 0.8597\n",
            "Epoch 78/100\n",
            "250/250 [==============================] - 0s 2ms/step - loss: 0.3416 - accuracy: 0.8600\n",
            "Epoch 79/100\n",
            "250/250 [==============================] - 0s 2ms/step - loss: 0.3421 - accuracy: 0.8600\n",
            "Epoch 80/100\n",
            "250/250 [==============================] - 0s 2ms/step - loss: 0.3445 - accuracy: 0.8608\n",
            "Epoch 81/100\n",
            "250/250 [==============================] - 0s 2ms/step - loss: 0.4231 - accuracy: 0.8533\n",
            "Epoch 82/100\n",
            "250/250 [==============================] - 0s 2ms/step - loss: 0.3679 - accuracy: 0.8581\n",
            "Epoch 83/100\n",
            "250/250 [==============================] - 0s 2ms/step - loss: 0.3432 - accuracy: 0.8596\n",
            "Epoch 84/100\n",
            "250/250 [==============================] - 0s 2ms/step - loss: 0.3419 - accuracy: 0.8601\n",
            "Epoch 85/100\n",
            "250/250 [==============================] - 0s 2ms/step - loss: 0.3428 - accuracy: 0.8605\n",
            "Epoch 86/100\n",
            "250/250 [==============================] - 0s 2ms/step - loss: 0.3413 - accuracy: 0.8609\n",
            "Epoch 87/100\n",
            "250/250 [==============================] - 0s 2ms/step - loss: 0.3403 - accuracy: 0.8612\n",
            "Epoch 88/100\n",
            "250/250 [==============================] - 0s 2ms/step - loss: 0.3410 - accuracy: 0.8600\n",
            "Epoch 89/100\n",
            "250/250 [==============================] - 0s 2ms/step - loss: 0.3407 - accuracy: 0.8631\n",
            "Epoch 90/100\n",
            "250/250 [==============================] - 0s 2ms/step - loss: 0.3403 - accuracy: 0.8606\n",
            "Epoch 91/100\n",
            "250/250 [==============================] - 0s 2ms/step - loss: 0.3652 - accuracy: 0.8604\n",
            "Epoch 92/100\n",
            "250/250 [==============================] - 0s 2ms/step - loss: 0.3609 - accuracy: 0.8597\n",
            "Epoch 93/100\n",
            "250/250 [==============================] - 0s 2ms/step - loss: 0.3445 - accuracy: 0.8604\n",
            "Epoch 94/100\n",
            "250/250 [==============================] - 0s 2ms/step - loss: 0.3420 - accuracy: 0.8615\n",
            "Epoch 95/100\n",
            "250/250 [==============================] - 0s 2ms/step - loss: 0.3401 - accuracy: 0.8615\n",
            "Epoch 96/100\n",
            "250/250 [==============================] - 0s 2ms/step - loss: 0.3450 - accuracy: 0.8597\n",
            "Epoch 97/100\n",
            "250/250 [==============================] - 0s 2ms/step - loss: 0.3408 - accuracy: 0.8606\n",
            "Epoch 98/100\n",
            "250/250 [==============================] - 0s 2ms/step - loss: 0.3407 - accuracy: 0.8610\n",
            "Epoch 99/100\n",
            "250/250 [==============================] - 0s 2ms/step - loss: 0.3415 - accuracy: 0.8585\n",
            "Epoch 100/100\n",
            "250/250 [==============================] - 0s 2ms/step - loss: 0.3430 - accuracy: 0.8586\n"
          ]
        },
        {
          "output_type": "execute_result",
          "data": {
            "text/plain": [
              "<keras.callbacks.History at 0x7f39da13a250>"
            ]
          },
          "metadata": {},
          "execution_count": 27
        }
      ]
    },
    {
      "cell_type": "code",
      "source": [
        "model.evaluate(X_test, y_test)"
      ],
      "metadata": {
        "id": "mS9kWhwIvvka",
        "colab": {
          "base_uri": "https://localhost:8080/"
        },
        "outputId": "9464a0f7-fe7e-42ad-d63a-a7aa883f0ebb"
      },
      "execution_count": 28,
      "outputs": [
        {
          "output_type": "stream",
          "name": "stdout",
          "text": [
            "WARNING:tensorflow:Model was constructed with shape (None, None, 32, 14) for input KerasTensor(type_spec=TensorSpec(shape=(None, None, 32, 14), dtype=tf.float32, name='dense_3_input'), name='dense_3_input', description=\"created by layer 'dense_3_input'\"), but it was called on an input with incompatible shape (None, 14).\n",
            "63/63 [==============================] - 0s 1ms/step - loss: 0.3627 - accuracy: 0.8535\n"
          ]
        },
        {
          "output_type": "execute_result",
          "data": {
            "text/plain": [
              "[0.3626798093318939, 0.8535000085830688]"
            ]
          },
          "metadata": {},
          "execution_count": 28
        }
      ]
    },
    {
      "cell_type": "code",
      "source": [
        "yp = model.predict(X_test)\n",
        "yp"
      ],
      "metadata": {
        "id": "P27G96ENvvhD",
        "colab": {
          "base_uri": "https://localhost:8080/"
        },
        "outputId": "8d8a56a0-332d-44e7-dcf1-a7e883f39d82"
      },
      "execution_count": 29,
      "outputs": [
        {
          "output_type": "stream",
          "name": "stdout",
          "text": [
            "WARNING:tensorflow:Model was constructed with shape (None, None, 32, 14) for input KerasTensor(type_spec=TensorSpec(shape=(None, None, 32, 14), dtype=tf.float32, name='dense_3_input'), name='dense_3_input', description=\"created by layer 'dense_3_input'\"), but it was called on an input with incompatible shape (None, 14).\n"
          ]
        },
        {
          "output_type": "execute_result",
          "data": {
            "text/plain": [
              "array([[0.03498793],\n",
              "       [0.06683436],\n",
              "       [0.04742539],\n",
              "       ...,\n",
              "       [0.02365309],\n",
              "       [0.03348574],\n",
              "       [0.04796645]], dtype=float32)"
            ]
          },
          "metadata": {},
          "execution_count": 29
        }
      ]
    },
    {
      "cell_type": "markdown",
      "source": [
        "Converting our predictions to 0,1 to check accuracy"
      ],
      "metadata": {
        "id": "U9UBV9BtLVl_"
      }
    },
    {
      "cell_type": "code",
      "source": [
        "y_pred = []\n",
        "for element in yp:\n",
        "    if element > 0.5:\n",
        "        y_pred.append(1)\n",
        "    else:\n",
        "        y_pred.append(0)"
      ],
      "metadata": {
        "id": "9_2EUWouLQHO"
      },
      "execution_count": 31,
      "outputs": []
    },
    {
      "cell_type": "code",
      "source": [
        "y_pred[:10]"
      ],
      "metadata": {
        "colab": {
          "base_uri": "https://localhost:8080/"
        },
        "id": "cQxBko_3LUXq",
        "outputId": "1401e6b2-aefd-435a-df6f-ab14b738b46b"
      },
      "execution_count": 34,
      "outputs": [
        {
          "output_type": "execute_result",
          "data": {
            "text/plain": [
              "[0, 0, 0, 0, 0, 0, 0, 0, 0, 1]"
            ]
          },
          "metadata": {},
          "execution_count": 34
        }
      ]
    },
    {
      "cell_type": "markdown",
      "source": [
        "Checking the accuracy"
      ],
      "metadata": {
        "id": "LmC5dZI3LjTE"
      }
    },
    {
      "cell_type": "code",
      "source": [
        "from sklearn.metrics import confusion_matrix , classification_report\n",
        "\n",
        "print(classification_report(y_test,y_pred))"
      ],
      "metadata": {
        "colab": {
          "base_uri": "https://localhost:8080/"
        },
        "id": "CyPbisSALZ2Y",
        "outputId": "2a739a2f-cccd-470d-9b06-6766269603a2"
      },
      "execution_count": 35,
      "outputs": [
        {
          "output_type": "stream",
          "name": "stdout",
          "text": [
            "              precision    recall  f1-score   support\n",
            "\n",
            "           0       0.86      0.97      0.91      1595\n",
            "           1       0.77      0.40      0.52       405\n",
            "\n",
            "    accuracy                           0.85      2000\n",
            "   macro avg       0.82      0.68      0.72      2000\n",
            "weighted avg       0.84      0.85      0.83      2000\n",
            "\n"
          ]
        }
      ]
    },
    {
      "cell_type": "code",
      "source": [
        "cm = tf.math.confusion_matrix(labels=y_test,predictions=y_pred)\n",
        "\n",
        "plt.figure(figsize = (10,7))\n",
        "sns.heatmap(cm, annot=True, fmt='d')\n",
        "plt.xlabel('Predicted')\n",
        "plt.ylabel('Truth')"
      ],
      "metadata": {
        "colab": {
          "base_uri": "https://localhost:8080/",
          "height": 459
        },
        "id": "XMHJ36pOLwWw",
        "outputId": "0ae15b55-685f-42b1-fc81-6ac606231c04"
      },
      "execution_count": 37,
      "outputs": [
        {
          "output_type": "execute_result",
          "data": {
            "text/plain": [
              "Text(69.0, 0.5, 'Truth')"
            ]
          },
          "metadata": {},
          "execution_count": 37
        },
        {
          "output_type": "display_data",
          "data": {
            "image/png": "[encoded data removed]",
            "text/plain": [
              "<Figure size 720x504 with 2 Axes>"
            ]
          },
          "metadata": {
            "needs_background": "light"
          }
        }
      ]
    },
    {
      "cell_type": "code",
      "source": [
        "print(\"Accuracy score is: \", accuracy_score(y_test,y_pred)*100,\"%\")"
      ],
      "metadata": {
        "colab": {
          "base_uri": "https://localhost:8080/"
        },
        "id": "mrZojOvbL8E_",
        "outputId": "715baf2d-5fd1-4b07-d049-052ee9dc26ec"
      },
      "execution_count": 39,
      "outputs": [
        {
          "output_type": "stream",
          "name": "stdout",
          "text": [
            "Accuracy score is:  85.35000000000001 %\n"
          ]
        }
      ]
    },
    {
      "cell_type": "markdown",
      "source": [
        "#Using Auto ML\n",
        "\n",
        "##H20 Auto ML"
      ],
      "metadata": {
        "id": "7nxAh1QcMENn"
      }
    },
    {
      "cell_type": "markdown",
      "source": [
        "### H2O is a fully open-source, distributed in-memory machine learning platform with linear scalability. H2O supports the most widely used statistical & machine learning algorithms, including gradient boosted machines, generalized linear models, deep learning, and many more."
      ],
      "metadata": {
        "id": "UokYdpKXMZNt"
      }
    },
    {
      "cell_type": "code",
      "source": [
        "#Installing H2O Auto ML\n",
        "\n",
        "!pip install requests\n",
        "!pip install tabulate\n",
        "!pip install \"colorama>=0.3.8\"\n",
        "!pip install future"
      ],
      "metadata": {
        "colab": {
          "base_uri": "https://localhost:8080/"
        },
        "id": "Zfs-Tsq_L9pX",
        "outputId": "2cfc18fd-39c1-4671-c3e3-894b26a86f78"
      },
      "execution_count": 41,
      "outputs": [
        {
          "output_type": "stream",
          "name": "stdout",
          "text": [
            "Requirement already satisfied: requests in /usr/local/lib/python3.7/dist-packages (2.23.0)\n",
            "Requirement already satisfied: certifi>=2017.4.17 in /usr/local/lib/python3.7/dist-packages (from requests) (2021.10.8)\n",
            "Requirement already satisfied: idna<3,>=2.5 in /usr/local/lib/python3.7/dist-packages (from requests) (2.10)\n",
            "Requirement already satisfied: chardet<4,>=3.0.2 in /usr/local/lib/python3.7/dist-packages (from requests) (3.0.4)\n",
            "Requirement already satisfied: urllib3!=1.25.0,!=1.25.1,<1.26,>=1.21.1 in /usr/local/lib/python3.7/dist-packages (from requests) (1.24.3)\n",
            "Requirement already satisfied: tabulate in /usr/local/lib/python3.7/dist-packages (0.8.9)\n",
            "Collecting colorama>=0.3.8\n",
            "  Downloading colorama-0.4.4-py2.py3-none-any.whl (16 kB)\n",
            "Installing collected packages: colorama\n",
            "Successfully installed colorama-0.4.4\n",
            "Requirement already satisfied: future in /usr/local/lib/python3.7/dist-packages (0.16.0)\n"
          ]
        }
      ]
    },
    {
      "cell_type": "code",
      "source": [
        "!pip install h2o"
      ],
      "metadata": {
        "colab": {
          "base_uri": "https://localhost:8080/"
        },
        "id": "x5rTL8xLMf1P",
        "outputId": "fba65253-fe71-42c2-e956-ed4ea5c40270"
      },
      "execution_count": 42,
      "outputs": [
        {
          "output_type": "stream",
          "name": "stdout",
          "text": [
            "Collecting h2o\n",
            "  Downloading h2o-3.34.0.7.tar.gz (175.8 MB)\n",
            "\u001b[K     |████████████████████████████████| 175.8 MB 38 kB/s \n",
            "\u001b[?25hRequirement already satisfied: requests in /usr/local/lib/python3.7/dist-packages (from h2o) (2.23.0)\n",
            "Requirement already satisfied: tabulate in /usr/local/lib/python3.7/dist-packages (from h2o) (0.8.9)\n",
            "Requirement already satisfied: future in /usr/local/lib/python3.7/dist-packages (from h2o) (0.16.0)\n",
            "Requirement already satisfied: urllib3!=1.25.0,!=1.25.1,<1.26,>=1.21.1 in /usr/local/lib/python3.7/dist-packages (from requests->h2o) (1.24.3)\n",
            "Requirement already satisfied: certifi>=2017.4.17 in /usr/local/lib/python3.7/dist-packages (from requests->h2o) (2021.10.8)\n",
            "Requirement already satisfied: idna<3,>=2.5 in /usr/local/lib/python3.7/dist-packages (from requests->h2o) (2.10)\n",
            "Requirement already satisfied: chardet<4,>=3.0.2 in /usr/local/lib/python3.7/dist-packages (from requests->h2o) (3.0.4)\n",
            "Building wheels for collected packages: h2o\n",
            "  Building wheel for h2o (setup.py) ... \u001b[?25l\u001b[?25hdone\n",
            "  Created wheel for h2o: filename=h2o-3.34.0.7-py2.py3-none-any.whl size=175908084 sha256=5b2e15b5a5690e9aa869dd9a651242ab1ec97c515cb63df121d96c5bec985b04\n",
            "  Stored in directory: /root/.cache/pip/wheels/df/df/05/1f2ac68a5d9bf38b74f2b8218443b2c00f1a5f4f3154ec11b6\n",
            "Successfully built h2o\n",
            "Installing collected packages: h2o\n",
            "Successfully installed h2o-3.34.0.7\n"
          ]
        }
      ]
    },
    {
      "cell_type": "code",
      "source": [
        "import h2o\n",
        "from h2o.automl import H2OAutoML\n",
        "h2o.init(max_mem_size='16G')  ##  the h2o.init() makes sure that no prior instance of H2O is running."
      ],
      "metadata": {
        "colab": {
          "base_uri": "https://localhost:8080/",
          "height": 547
        },
        "id": "8-t8ABKuMjDD",
        "outputId": "7cca584a-cba9-4e46-a605-946e5a0461c1"
      },
      "execution_count": 43,
      "outputs": [
        {
          "output_type": "stream",
          "name": "stdout",
          "text": [
            "Checking whether there is an H2O instance running at http://localhost:54321 ..... not found.\n",
            "Attempting to start a local H2O server...\n",
            "  Java Version: openjdk version \"11.0.13\" 2021-10-19; OpenJDK Runtime Environment (build 11.0.13+8-Ubuntu-0ubuntu1.18.04); OpenJDK 64-Bit Server VM (build 11.0.13+8-Ubuntu-0ubuntu1.18.04, mixed mode, sharing)\n",
            "  Starting server from /usr/local/lib/python3.7/dist-packages/h2o/backend/bin/h2o.jar\n",
            "  Ice root: /tmp/tmpf2el2uwt\n",
            "  JVM stdout: /tmp/tmpf2el2uwt/h2o_unknownUser_started_from_python.out\n",
            "  JVM stderr: /tmp/tmpf2el2uwt/h2o_unknownUser_started_from_python.err\n",
            "  Server is running at http://127.0.0.1:54321\n",
            "Connecting to H2O server at http://127.0.0.1:54321 ... successful.\n"
          ]
        },
        {
          "output_type": "display_data",
          "data": {
            "text/html": [
              "<div style=\"overflow:auto\"><table style=\"width:50%\"><tr><td>H2O_cluster_uptime:</td>\n",
              "<td>04 secs</td></tr>\n",
              "<tr><td>H2O_cluster_timezone:</td>\n",
              "<td>Etc/UTC</td></tr>\n",
              "<tr><td>H2O_data_parsing_timezone:</td>\n",
              "<td>UTC</td></tr>\n",
              "<tr><td>H2O_cluster_version:</td>\n",
              "<td>3.34.0.7</td></tr>\n",
              "<tr><td>H2O_cluster_version_age:</td>\n",
              "<td>29 days </td></tr>\n",
              "<tr><td>H2O_cluster_name:</td>\n",
              "<td>H2O_from_python_unknownUser_pgkzbz</td></tr>\n",
              "<tr><td>H2O_cluster_total_nodes:</td>\n",
              "<td>1</td></tr>\n",
              "<tr><td>H2O_cluster_free_memory:</td>\n",
              "<td>16 Gb</td></tr>\n",
              "<tr><td>H2O_cluster_total_cores:</td>\n",
              "<td>2</td></tr>\n",
              "<tr><td>H2O_cluster_allowed_cores:</td>\n",
              "<td>2</td></tr>\n",
              "<tr><td>H2O_cluster_status:</td>\n",
              "<td>locked, healthy</td></tr>\n",
              "<tr><td>H2O_connection_url:</td>\n",
              "<td>http://127.0.0.1:54321</td></tr>\n",
              "<tr><td>H2O_connection_proxy:</td>\n",
              "<td>{\"http\": null, \"https\": null}</td></tr>\n",
              "<tr><td>H2O_internal_security:</td>\n",
              "<td>False</td></tr>\n",
              "<tr><td>H2O_API_Extensions:</td>\n",
              "<td>Amazon S3, XGBoost, Algos, AutoML, Core V3, TargetEncoder, Core V4</td></tr>\n",
              "<tr><td>Python_version:</td>\n",
              "<td>3.7.12 final</td></tr></table></div>"
            ],
            "text/plain": [
              "--------------------------  ------------------------------------------------------------------\n",
              "H2O_cluster_uptime:         04 secs\n",
              "H2O_cluster_timezone:       Etc/UTC\n",
              "H2O_data_parsing_timezone:  UTC\n",
              "H2O_cluster_version:        3.34.0.7\n",
              "H2O_cluster_version_age:    29 days\n",
              "H2O_cluster_name:           H2O_from_python_unknownUser_pgkzbz\n",
              "H2O_cluster_total_nodes:    1\n",
              "H2O_cluster_free_memory:    16 Gb\n",
              "H2O_cluster_total_cores:    2\n",
              "H2O_cluster_allowed_cores:  2\n",
              "H2O_cluster_status:         locked, healthy\n",
              "H2O_connection_url:         http://127.0.0.1:54321\n",
              "H2O_connection_proxy:       {\"http\": null, \"https\": null}\n",
              "H2O_internal_security:      False\n",
              "H2O_API_Extensions:         Amazon S3, XGBoost, Algos, AutoML, Core V3, TargetEncoder, Core V4\n",
              "Python_version:             3.7.12 final\n",
              "--------------------------  ------------------------------------------------------------------"
            ]
          },
          "metadata": {}
        }
      ]
    },
    {
      "cell_type": "markdown",
      "source": [
        "Loading the data"
      ],
      "metadata": {
        "id": "Y16f-uxjMpj9"
      }
    },
    {
      "cell_type": "code",
      "source": [
        "df = h2o.import_file(\"/content/Churn_Modelling.csv\")"
      ],
      "metadata": {
        "colab": {
          "base_uri": "https://localhost:8080/"
        },
        "id": "4hAp71QgMpGA",
        "outputId": "352c98d4-5b3e-4769-8463-887ad1fd701f"
      },
      "execution_count": 44,
      "outputs": [
        {
          "output_type": "stream",
          "name": "stdout",
          "text": [
            "Parse progress: |████████████████████████████████████████████████████████████████| (done) 100%\n"
          ]
        }
      ]
    },
    {
      "cell_type": "code",
      "source": [
        "df.head(2)"
      ],
      "metadata": {
        "colab": {
          "base_uri": "https://localhost:8080/",
          "height": 82
        },
        "id": "AL-odudaMo_g",
        "outputId": "f4111ef0-697d-455c-aab8-b69972c85a19"
      },
      "execution_count": 45,
      "outputs": [
        {
          "output_type": "display_data",
          "data": {
            "text/html": [
              "<table>\n",
              "<thead>\n",
              "<tr><th style=\"text-align: right;\">  RowNumber</th><th style=\"text-align: right;\">  CustomerId</th><th>Surname  </th><th style=\"text-align: right;\">  CreditScore</th><th>Geography  </th><th>Gender  </th><th style=\"text-align: right;\">  Age</th><th style=\"text-align: right;\">  Tenure</th><th style=\"text-align: right;\">  Balance</th><th style=\"text-align: right;\">  NumOfProducts</th><th style=\"text-align: right;\">  HasCrCard</th><th style=\"text-align: right;\">  IsActiveMember</th><th style=\"text-align: right;\">  EstimatedSalary</th><th style=\"text-align: right;\">  Exited</th></tr>\n",
              "</thead>\n",
              "<tbody>\n",
              "<tr><td style=\"text-align: right;\">          1</td><td style=\"text-align: right;\"> 1.56346e+07</td><td>Hargrave </td><td style=\"text-align: right;\">          619</td><td>France     </td><td>Female  </td><td style=\"text-align: right;\">   42</td><td style=\"text-align: right;\">       2</td><td style=\"text-align: right;\">      0  </td><td style=\"text-align: right;\">              1</td><td style=\"text-align: right;\">          1</td><td style=\"text-align: right;\">               1</td><td style=\"text-align: right;\">           101349</td><td style=\"text-align: right;\">       1</td></tr>\n",
              "<tr><td style=\"text-align: right;\">          2</td><td style=\"text-align: right;\"> 1.56473e+07</td><td>Hill     </td><td style=\"text-align: right;\">          608</td><td>Spain      </td><td>Female  </td><td style=\"text-align: right;\">   41</td><td style=\"text-align: right;\">       1</td><td style=\"text-align: right;\">  83807.9</td><td style=\"text-align: right;\">              1</td><td style=\"text-align: right;\">          0</td><td style=\"text-align: right;\">               1</td><td style=\"text-align: right;\">           112543</td><td style=\"text-align: right;\">       0</td></tr>\n",
              "</tbody>\n",
              "</table>"
            ]
          },
          "metadata": {}
        },
        {
          "output_type": "execute_result",
          "data": {
            "text/plain": [
              ""
            ]
          },
          "metadata": {},
          "execution_count": 45
        }
      ]
    },
    {
      "cell_type": "markdown",
      "source": [
        "H2O Auto ML can do all the data preprocessing techniques"
      ],
      "metadata": {
        "id": "l1JE-PJVMzsK"
      }
    },
    {
      "cell_type": "markdown",
      "source": [
        "Splitting the data"
      ],
      "metadata": {
        "id": "vXN4SzKRM8v_"
      }
    },
    {
      "cell_type": "code",
      "source": [
        "df_train,df_test= df.split_frame(ratios=[.8])"
      ],
      "metadata": {
        "id": "yhZEOrQtMmuJ"
      },
      "execution_count": null,
      "outputs": []
    },
    {
      "cell_type": "code",
      "source": [
        "df_train"
      ],
      "metadata": {
        "colab": {
          "base_uri": "https://localhost:8080/",
          "height": 249
        },
        "id": "m5vqk64sM-j7",
        "outputId": "38b62371-723b-4ad9-86d5-e7cb8060f671"
      },
      "execution_count": 47,
      "outputs": [
        {
          "output_type": "display_data",
          "data": {
            "text/html": [
              "<table>\n",
              "<thead>\n",
              "<tr><th style=\"text-align: right;\">  RowNumber</th><th style=\"text-align: right;\">  CustomerId</th><th>Surname  </th><th style=\"text-align: right;\">  CreditScore</th><th>Geography  </th><th>Gender  </th><th style=\"text-align: right;\">  Age</th><th style=\"text-align: right;\">  Tenure</th><th style=\"text-align: right;\">  Balance</th><th style=\"text-align: right;\">  NumOfProducts</th><th style=\"text-align: right;\">  HasCrCard</th><th style=\"text-align: right;\">  IsActiveMember</th><th style=\"text-align: right;\">  EstimatedSalary</th><th style=\"text-align: right;\">  Exited</th></tr>\n",
              "</thead>\n",
              "<tbody>\n",
              "<tr><td style=\"text-align: right;\">          2</td><td style=\"text-align: right;\"> 1.56473e+07</td><td>Hill     </td><td style=\"text-align: right;\">          608</td><td>Spain      </td><td>Female  </td><td style=\"text-align: right;\">   41</td><td style=\"text-align: right;\">       1</td><td style=\"text-align: right;\">  83807.9</td><td style=\"text-align: right;\">              1</td><td style=\"text-align: right;\">          0</td><td style=\"text-align: right;\">               1</td><td style=\"text-align: right;\">         112543  </td><td style=\"text-align: right;\">       0</td></tr>\n",
              "<tr><td style=\"text-align: right;\">          4</td><td style=\"text-align: right;\"> 1.57014e+07</td><td>Boni     </td><td style=\"text-align: right;\">          699</td><td>France     </td><td>Female  </td><td style=\"text-align: right;\">   39</td><td style=\"text-align: right;\">       1</td><td style=\"text-align: right;\">      0  </td><td style=\"text-align: right;\">              2</td><td style=\"text-align: right;\">          0</td><td style=\"text-align: right;\">               0</td><td style=\"text-align: right;\">          93826.6</td><td style=\"text-align: right;\">       0</td></tr>\n",
              "<tr><td style=\"text-align: right;\">          5</td><td style=\"text-align: right;\"> 1.57379e+07</td><td>Mitchell </td><td style=\"text-align: right;\">          850</td><td>Spain      </td><td>Female  </td><td style=\"text-align: right;\">   43</td><td style=\"text-align: right;\">       2</td><td style=\"text-align: right;\"> 125511  </td><td style=\"text-align: right;\">              1</td><td style=\"text-align: right;\">          1</td><td style=\"text-align: right;\">               1</td><td style=\"text-align: right;\">          79084.1</td><td style=\"text-align: right;\">       0</td></tr>\n",
              "<tr><td style=\"text-align: right;\">          6</td><td style=\"text-align: right;\"> 1.5574e+07 </td><td>Chu      </td><td style=\"text-align: right;\">          645</td><td>Spain      </td><td>Male    </td><td style=\"text-align: right;\">   44</td><td style=\"text-align: right;\">       8</td><td style=\"text-align: right;\"> 113756  </td><td style=\"text-align: right;\">              2</td><td style=\"text-align: right;\">          1</td><td style=\"text-align: right;\">               0</td><td style=\"text-align: right;\">         149757  </td><td style=\"text-align: right;\">       1</td></tr>\n",
              "<tr><td style=\"text-align: right;\">          7</td><td style=\"text-align: right;\"> 1.55925e+07</td><td>Bartlett </td><td style=\"text-align: right;\">          822</td><td>France     </td><td>Male    </td><td style=\"text-align: right;\">   50</td><td style=\"text-align: right;\">       7</td><td style=\"text-align: right;\">      0  </td><td style=\"text-align: right;\">              2</td><td style=\"text-align: right;\">          1</td><td style=\"text-align: right;\">               1</td><td style=\"text-align: right;\">          10062.8</td><td style=\"text-align: right;\">       0</td></tr>\n",
              "<tr><td style=\"text-align: right;\">          8</td><td style=\"text-align: right;\"> 1.56561e+07</td><td>Obinna   </td><td style=\"text-align: right;\">          376</td><td>Germany    </td><td>Female  </td><td style=\"text-align: right;\">   29</td><td style=\"text-align: right;\">       4</td><td style=\"text-align: right;\"> 115047  </td><td style=\"text-align: right;\">              4</td><td style=\"text-align: right;\">          1</td><td style=\"text-align: right;\">               0</td><td style=\"text-align: right;\">         119347  </td><td style=\"text-align: right;\">       1</td></tr>\n",
              "<tr><td style=\"text-align: right;\">          9</td><td style=\"text-align: right;\"> 1.57924e+07</td><td>He       </td><td style=\"text-align: right;\">          501</td><td>France     </td><td>Male    </td><td style=\"text-align: right;\">   44</td><td style=\"text-align: right;\">       4</td><td style=\"text-align: right;\"> 142051  </td><td style=\"text-align: right;\">              2</td><td style=\"text-align: right;\">          0</td><td style=\"text-align: right;\">               1</td><td style=\"text-align: right;\">          74940.5</td><td style=\"text-align: right;\">       0</td></tr>\n",
              "<tr><td style=\"text-align: right;\">         10</td><td style=\"text-align: right;\"> 1.55924e+07</td><td>H?       </td><td style=\"text-align: right;\">          684</td><td>France     </td><td>Male    </td><td style=\"text-align: right;\">   27</td><td style=\"text-align: right;\">       2</td><td style=\"text-align: right;\"> 134604  </td><td style=\"text-align: right;\">              1</td><td style=\"text-align: right;\">          1</td><td style=\"text-align: right;\">               1</td><td style=\"text-align: right;\">          71725.7</td><td style=\"text-align: right;\">       0</td></tr>\n",
              "<tr><td style=\"text-align: right;\">         12</td><td style=\"text-align: right;\"> 1.57372e+07</td><td>Andrews  </td><td style=\"text-align: right;\">          497</td><td>Spain      </td><td>Male    </td><td style=\"text-align: right;\">   24</td><td style=\"text-align: right;\">       3</td><td style=\"text-align: right;\">      0  </td><td style=\"text-align: right;\">              2</td><td style=\"text-align: right;\">          1</td><td style=\"text-align: right;\">               0</td><td style=\"text-align: right;\">          76390  </td><td style=\"text-align: right;\">       0</td></tr>\n",
              "<tr><td style=\"text-align: right;\">         13</td><td style=\"text-align: right;\"> 1.56323e+07</td><td>Kay      </td><td style=\"text-align: right;\">          476</td><td>France     </td><td>Female  </td><td style=\"text-align: right;\">   34</td><td style=\"text-align: right;\">      10</td><td style=\"text-align: right;\">      0  </td><td style=\"text-align: right;\">              2</td><td style=\"text-align: right;\">          1</td><td style=\"text-align: right;\">               0</td><td style=\"text-align: right;\">          26261  </td><td style=\"text-align: right;\">       0</td></tr>\n",
              "</tbody>\n",
              "</table>"
            ]
          },
          "metadata": {}
        },
        {
          "output_type": "execute_result",
          "data": {
            "text/plain": [
              ""
            ]
          },
          "metadata": {},
          "execution_count": 47
        }
      ]
    },
    {
      "cell_type": "code",
      "source": [
        "y = \"Exited\"  ## dependent variable\n",
        "x = df.columns  ## Independent variable\n",
        "x.remove(y)\n",
        "x.remove('CustomerId')\n",
        "x.remove('RowNumber')\n",
        "x.remove('Surname')"
      ],
      "metadata": {
        "id": "c0wpMZZBM-gX"
      },
      "execution_count": 48,
      "outputs": []
    },
    {
      "cell_type": "markdown",
      "source": [
        "Defining the model"
      ],
      "metadata": {
        "id": "8tNFpLFyNGbS"
      }
    },
    {
      "cell_type": "code",
      "source": [
        "aml = H2OAutoML(max_runtime_secs=300,max_models = 10, seed = 10, verbosity=\"info\", nfolds=2)"
      ],
      "metadata": {
        "id": "VbVl6WNXM-dj"
      },
      "execution_count": 49,
      "outputs": []
    },
    {
      "cell_type": "markdown",
      "source": [
        "Fitting the model"
      ],
      "metadata": {
        "id": "f1NXmXESNQhW"
      }
    },
    {
      "cell_type": "code",
      "source": [
        "aml.train(x=x,y=y, training_frame=df_train)"
      ],
      "metadata": {
        "colab": {
          "base_uri": "https://localhost:8080/"
        },
        "id": "3Y2c85XnNIfi",
        "outputId": "40ce20bc-5a9f-4427-c1f7-fb2b8d24e3ab"
      },
      "execution_count": 50,
      "outputs": [
        {
          "output_type": "stream",
          "name": "stdout",
          "text": [
            "AutoML progress: |\n",
            "16:39:35.551: Project: AutoML_1_20220119_163935\n",
            "16:39:35.561: Setting stopping tolerance adaptively based on the training frame: 0.011154574690170912\n",
            "16:39:35.562: Build control seed: 10\n",
            "16:39:35.563: training frame: Frame key: AutoML_1_20220119_163935_training_py_3_sid_a27e    cols: 14    rows: 8037  chunks: 8    size: 426612  checksum: 7844131867108683167\n",
            "16:39:35.565: validation frame: NULL\n",
            "16:39:35.565: leaderboard frame: NULL\n",
            "16:39:35.565: blending frame: NULL\n",
            "16:39:35.566: response column: Exited\n",
            "16:39:35.568: fold column: null\n",
            "16:39:35.570: weights column: null\n",
            "16:39:35.591: Loading execution steps: [{XGBoost : [def_2 (1g, 10w), def_1 (2g, 10w), def_3 (3g, 10w), grid_1 (4g, 90w), lr_search (6g, 30w)]}, {GLM : [def_1 (1g, 10w)]}, {DRF : [def_1 (2g, 10w), XRT (3g, 10w)]}, {GBM : [def_5 (1g, 10w), def_2 (2g, 10w), def_3 (2g, 10w), def_4 (2g, 10w), def_1 (3g, 10w), grid_1 (4g, 60w), lr_annealing (6g, 10w)]}, {DeepLearning : [def_1 (3g, 10w), grid_1 (4g, 30w), grid_2 (5g, 30w), grid_3 (5g, 30w)]}, {completion : [resume_best_grids (10g, 60w)]}, {StackedEnsemble : [best_of_family_1 (1g, 5w), best_of_family_2 (2g, 5w), best_of_family_3 (3g, 5w), best_of_family_4 (4g, 5w), best_of_family_5 (5g, 5w), all_2 (2g, 10w), all_3 (3g, 10w), all_4 (4g, 10w), all_5 (5g, 10w), monotonic (6g, 10w), best_of_family_xgboost (6g, 10w), best_of_family_gbm (6g, 10w), all_xgboost (7g, 10w), all_gbm (7g, 10w), best_of_family_xglm (8g, 10w), all_xglm (8g, 10w), best_of_family (10g, 10w), best_N (10g, 10w)]}]\n",
            "16:39:35.631: AutoML job created: 2022.01.19 16:39:35.501\n",
            "16:39:35.632: AutoML build started: 2022.01.19 16:39:35.631\n",
            "16:39:35.660: AutoML: starting XGBoost_1_AutoML_1_20220119_163935 model training\n",
            "16:39:35.677: _response param, Response is numeric, so the regression model will be trained. However, the cardinality is equaled to two, so if you want to train a classification model, convert the response column to categorical before training.\n",
            "\n",
            "██\n",
            "16:39:40.711: New leader: XGBoost_1_AutoML_1_20220119_163935, mean_residual_deviance: 0.13137301899862602\n",
            "16:39:40.715: AutoML: starting GLM_1_AutoML_1_20220119_163935 model training\n",
            "16:39:40.717: _response param, Response is numeric, so the regression model will be trained. However, the cardinality is equaled to two, so if you want to train a classification model, convert the response column to categorical before training.\n",
            "\n",
            "\n",
            "16:39:43.730: AutoML: starting GBM_1_AutoML_1_20220119_163935 model training\n",
            "16:39:43.732: _response param, Response is numeric, so the regression model will be trained. However, the cardinality is equaled to two, so if you want to train a classification model, convert the response column to categorical before training.\n",
            "\n",
            "██\n",
            "16:39:50.741: New leader: GBM_1_AutoML_1_20220119_163935, mean_residual_deviance: 0.10688400076154192\n",
            "16:39:50.753: AutoML: starting StackedEnsemble_BestOfFamily_1_AutoML_1_20220119_163935 model training\n",
            "16:39:50.758: _response param, Response is numeric, so the regression model will be trained. However, the cardinality is equaled to two, so if you want to train a classification model, convert the response column to categorical before training.\n",
            "\n",
            "\n",
            "16:39:51.769: AutoML: starting XGBoost_2_AutoML_1_20220119_163935 model training\n",
            "16:39:51.770: _response param, Response is numeric, so the regression model will be trained. However, the cardinality is equaled to two, so if you want to train a classification model, convert the response column to categorical before training.\n",
            "\n",
            "█\n",
            "16:39:54.776: AutoML: starting DRF_1_AutoML_1_20220119_163935 model training\n",
            "16:39:54.777: _response param, Response is numeric, so the regression model will be trained. However, the cardinality is equaled to two, so if you want to train a classification model, convert the response column to categorical before training.\n",
            "\n",
            "██\n",
            "16:40:03.806: AutoML: starting GBM_2_AutoML_1_20220119_163935 model training\n",
            "16:40:03.807: _response param, Response is numeric, so the regression model will be trained. However, the cardinality is equaled to two, so if you want to train a classification model, convert the response column to categorical before training.\n",
            "\n",
            "\n",
            "16:40:06.813: New leader: GBM_2_AutoML_1_20220119_163935, mean_residual_deviance: 0.10657077519176983\n",
            "16:40:06.813: AutoML: starting GBM_3_AutoML_1_20220119_163935 model training\n",
            "16:40:06.819: _response param, Response is numeric, so the regression model will be trained. However, the cardinality is equaled to two, so if you want to train a classification model, convert the response column to categorical before training.\n",
            "\n",
            "█\n",
            "16:40:09.825: AutoML: starting GBM_4_AutoML_1_20220119_163935 model training\n",
            "16:40:09.826: _response param, Response is numeric, so the regression model will be trained. However, the cardinality is equaled to two, so if you want to train a classification model, convert the response column to categorical before training.\n",
            "\n",
            "█\n",
            "16:40:12.831: AutoML: starting StackedEnsemble_BestOfFamily_2_AutoML_1_20220119_163935 model training\n",
            "16:40:12.832: _response param, Response is numeric, so the regression model will be trained. However, the cardinality is equaled to two, so if you want to train a classification model, convert the response column to categorical before training.\n",
            "16:40:13.836: New leader: StackedEnsemble_BestOfFamily_2_AutoML_1_20220119_163935, mean_residual_deviance: 0.10609016150045804\n",
            "16:40:13.838: AutoML: starting StackedEnsemble_AllModels_1_AutoML_1_20220119_163935 model training\n",
            "16:40:13.839: _response param, Response is numeric, so the regression model will be trained. However, the cardinality is equaled to two, so if you want to train a classification model, convert the response column to categorical before training.\n",
            "\n",
            "\n",
            "16:40:14.843: New leader: StackedEnsemble_AllModels_1_AutoML_1_20220119_163935, mean_residual_deviance: 0.10522902875619036\n",
            "16:40:14.844: AutoML: starting XGBoost_3_AutoML_1_20220119_163935 model training\n",
            "16:40:14.845: _response param, Response is numeric, so the regression model will be trained. However, the cardinality is equaled to two, so if you want to train a classification model, convert the response column to categorical before training.\n",
            "\n",
            "█\n",
            "16:40:16.857: AutoML: starting XRT_1_AutoML_1_20220119_163935 model training\n",
            "16:40:16.858: _response param, Response is numeric, so the regression model will be trained. However, the cardinality is equaled to two, so if you want to train a classification model, convert the response column to categorical before training.\n",
            "\n",
            "███\n",
            "16:40:24.874: AutoML: starting StackedEnsemble_BestOfFamily_3_AutoML_1_20220119_163935 model training\n",
            "16:40:24.875: _response param, Response is numeric, so the regression model will be trained. However, the cardinality is equaled to two, so if you want to train a classification model, convert the response column to categorical before training.\n",
            "\n",
            "\n",
            "16:40:25.883: AutoML: starting StackedEnsemble_AllModels_2_AutoML_1_20220119_163935 model training\n",
            "16:40:25.889: _response param, Response is numeric, so the regression model will be trained. However, the cardinality is equaled to two, so if you want to train a classification model, convert the response column to categorical before training.\n",
            "\n",
            "█\n",
            "16:40:26.892: New leader: StackedEnsemble_AllModels_2_AutoML_1_20220119_163935, mean_residual_deviance: 0.10520266801751745\n",
            "16:40:26.900: No base models, due to timeouts or the exclude_algos option. Skipping StackedEnsemble 'monotonic'.\n",
            "16:40:26.901: AutoML: starting StackedEnsemble_BestOfFamily_4_AutoML_1_20220119_163935 model training\n",
            "16:40:26.904: _response param, Response is numeric, so the regression model will be trained. However, the cardinality is equaled to two, so if you want to train a classification model, convert the response column to categorical before training.\n",
            "\n",
            "███\n",
            "16:40:33.908: AutoML: starting StackedEnsemble_BestOfFamily_5_AutoML_1_20220119_163935 model training\n",
            "16:40:33.913: _response param, Response is numeric, so the regression model will be trained. However, the cardinality is equaled to two, so if you want to train a classification model, convert the response column to categorical before training.\n",
            "\n",
            "█\n",
            "16:40:36.926: AutoML: starting StackedEnsemble_AllModels_3_AutoML_1_20220119_163935 model training\n",
            "16:40:36.934: _response param, Response is numeric, so the regression model will be trained. However, the cardinality is equaled to two, so if you want to train a classification model, convert the response column to categorical before training.\n",
            "\n",
            "██\n",
            "16:40:43.941: AutoML: starting StackedEnsemble_AllModels_4_AutoML_1_20220119_163935 model training\n",
            "16:40:43.944: _response param, Response is numeric, so the regression model will be trained. However, the cardinality is equaled to two, so if you want to train a classification model, convert the response column to categorical before training.\n",
            "\n",
            "\n",
            "16:40:47.950: AutoML: starting StackedEnsemble_BestOfFamily_6_AutoML_1_20220119_163935 model training\n",
            "16:40:47.951: _response param, Response is numeric, so the regression model will be trained. However, the cardinality is equaled to two, so if you want to train a classification model, convert the response column to categorical before training.\n",
            "16:40:49.965: AutoML: starting StackedEnsemble_AllModels_5_AutoML_1_20220119_163935 model training\n",
            "16:40:49.970: _response param, Response is numeric, so the regression model will be trained. However, the cardinality is equaled to two, so if you want to train a classification model, convert the response column to categorical before training.\n",
            "\n",
            "███████████████████████████████████████████| (done) 100%\n",
            "\n",
            "16:40:52.974: New leader: StackedEnsemble_AllModels_5_AutoML_1_20220119_163935, mean_residual_deviance: 0.105197218943922\n",
            "16:40:52.977: Actual modeling steps: [{XGBoost : [def_2 (1g, 10w)]}, {GLM : [def_1 (1g, 10w)]}, {GBM : [def_5 (1g, 10w)]}, {StackedEnsemble : [best_of_family_1 (1g, 5w)]}, {XGBoost : [def_1 (2g, 10w)]}, {DRF : [def_1 (2g, 10w)]}, {GBM : [def_2 (2g, 10w), def_3 (2g, 10w), def_4 (2g, 10w)]}, {StackedEnsemble : [best_of_family_2 (2g, 5w), all_2 (2g, 10w)]}, {XGBoost : [def_3 (3g, 10w)]}, {DRF : [XRT (3g, 10w)]}, {StackedEnsemble : [best_of_family_3 (3g, 5w), all_3 (3g, 10w), best_of_family_xgboost (6g, 10w), best_of_family_gbm (6g, 10w), all_xgboost (7g, 10w), all_gbm (7g, 10w), best_of_family_xglm (8g, 10w), all_xglm (8g, 10w)]}]\n",
            "16:40:52.978: AutoML build stopped: 2022.01.19 16:40:52.977\n",
            "16:40:52.978: AutoML build done: built 10 models\n",
            "16:40:52.978: AutoML duration:  1 min 17.346 sec\n",
            "\n",
            "Model Details\n",
            "=============\n",
            "H2OStackedEnsembleEstimator :  Stacked Ensemble\n",
            "Model Key:  StackedEnsemble_AllModels_5_AutoML_1_20220119_163935\n",
            "\n",
            "No model summary for this model\n",
            "\n",
            "ModelMetricsRegressionGLM: stackedensemble\n",
            "** Reported on train data. **\n",
            "\n",
            "MSE: 0.06641812274763603\n",
            "RMSE: 0.2577171370856739\n",
            "MAE: 0.16633450009320777\n",
            "RMSLE: 0.1781479628159806\n",
            "R^2: 0.588633472502788\n",
            "Mean Residual Deviance: 0.06641812274763603\n",
            "Null degrees of freedom: 8036\n",
            "Residual degrees of freedom: 8029\n",
            "Null deviance: 1297.6322010700696\n",
            "Residual deviance: 533.8024525227507\n",
            "AIC: 1031.399311297823\n",
            "\n",
            "ModelMetricsRegressionGLM: stackedensemble\n",
            "** Reported on cross-validation data. **\n",
            "\n",
            "MSE: 0.105197218943922\n",
            "RMSE: 0.32434120759459784\n",
            "MAE: 0.21443560718413007\n",
            "RMSLE: 0.22815897604942315\n",
            "R^2: 0.3484517046085083\n",
            "Mean Residual Deviance: 0.105197218943922\n",
            "Null degrees of freedom: 8036\n",
            "Residual degrees of freedom: 8029\n",
            "Null deviance: 1298.3627271427736\n",
            "Residual deviance: 845.4700486523011\n",
            "AIC: 4727.349682001869\n"
          ]
        },
        {
          "output_type": "execute_result",
          "data": {
            "text/plain": [
              ""
            ]
          },
          "metadata": {},
          "execution_count": 50
        }
      ]
    },
    {
      "cell_type": "markdown",
      "source": [
        "Seeing the Leaderboard"
      ],
      "metadata": {
        "id": "Bfyq1jqZNVWo"
      }
    },
    {
      "cell_type": "code",
      "source": [
        "lb = aml.leaderboard"
      ],
      "metadata": {
        "id": "hxMciyOINSpL"
      },
      "execution_count": 51,
      "outputs": []
    },
    {
      "cell_type": "code",
      "source": [
        "lb"
      ],
      "metadata": {
        "colab": {
          "base_uri": "https://localhost:8080/",
          "height": 249
        },
        "id": "aIQPafXeNXEK",
        "outputId": "531ea40f-fb7d-4378-b3e6-70c6b8785b1b"
      },
      "execution_count": 52,
      "outputs": [
        {
          "output_type": "display_data",
          "data": {
            "text/html": [
              "<table>\n",
              "<thead>\n",
              "<tr><th>model_id                                               </th><th style=\"text-align: right;\">  mean_residual_deviance</th><th style=\"text-align: right;\">    rmse</th><th style=\"text-align: right;\">     mse</th><th style=\"text-align: right;\">     mae</th><th style=\"text-align: right;\">   rmsle</th></tr>\n",
              "</thead>\n",
              "<tbody>\n",
              "<tr><td>StackedEnsemble_AllModels_5_AutoML_1_20220119_163935   </td><td style=\"text-align: right;\">                0.105197</td><td style=\"text-align: right;\">0.324341</td><td style=\"text-align: right;\">0.105197</td><td style=\"text-align: right;\">0.214436</td><td style=\"text-align: right;\">0.228159</td></tr>\n",
              "<tr><td>StackedEnsemble_AllModels_2_AutoML_1_20220119_163935   </td><td style=\"text-align: right;\">                0.105203</td><td style=\"text-align: right;\">0.32435 </td><td style=\"text-align: right;\">0.105203</td><td style=\"text-align: right;\">0.213268</td><td style=\"text-align: right;\">0.228255</td></tr>\n",
              "<tr><td>StackedEnsemble_AllModels_1_AutoML_1_20220119_163935   </td><td style=\"text-align: right;\">                0.105229</td><td style=\"text-align: right;\">0.32439 </td><td style=\"text-align: right;\">0.105229</td><td style=\"text-align: right;\">0.213108</td><td style=\"text-align: right;\">0.228289</td></tr>\n",
              "<tr><td>StackedEnsemble_BestOfFamily_6_AutoML_1_20220119_163935</td><td style=\"text-align: right;\">                0.105814</td><td style=\"text-align: right;\">0.32529 </td><td style=\"text-align: right;\">0.105814</td><td style=\"text-align: right;\">0.21564 </td><td style=\"text-align: right;\">0.228794</td></tr>\n",
              "<tr><td>StackedEnsemble_BestOfFamily_3_AutoML_1_20220119_163935</td><td style=\"text-align: right;\">                0.10591 </td><td style=\"text-align: right;\">0.325438</td><td style=\"text-align: right;\">0.10591 </td><td style=\"text-align: right;\">0.214292</td><td style=\"text-align: right;\">0.228963</td></tr>\n",
              "<tr><td>StackedEnsemble_BestOfFamily_2_AutoML_1_20220119_163935</td><td style=\"text-align: right;\">                0.10609 </td><td style=\"text-align: right;\">0.325715</td><td style=\"text-align: right;\">0.10609 </td><td style=\"text-align: right;\">0.214275</td><td style=\"text-align: right;\">0.229084</td></tr>\n",
              "<tr><td>GBM_2_AutoML_1_20220119_163935                         </td><td style=\"text-align: right;\">                0.106571</td><td style=\"text-align: right;\">0.326452</td><td style=\"text-align: right;\">0.106571</td><td style=\"text-align: right;\">0.216957</td><td style=\"text-align: right;\">0.229336</td></tr>\n",
              "<tr><td>GBM_1_AutoML_1_20220119_163935                         </td><td style=\"text-align: right;\">                0.106884</td><td style=\"text-align: right;\">0.326931</td><td style=\"text-align: right;\">0.106884</td><td style=\"text-align: right;\">0.220011</td><td style=\"text-align: right;\">0.230099</td></tr>\n",
              "<tr><td>StackedEnsemble_AllModels_4_AutoML_1_20220119_163935   </td><td style=\"text-align: right;\">                0.106914</td><td style=\"text-align: right;\">0.326977</td><td style=\"text-align: right;\">0.106914</td><td style=\"text-align: right;\">0.209576</td><td style=\"text-align: right;\">0.228962</td></tr>\n",
              "<tr><td>StackedEnsemble_BestOfFamily_1_AutoML_1_20220119_163935</td><td style=\"text-align: right;\">                0.106932</td><td style=\"text-align: right;\">0.327005</td><td style=\"text-align: right;\">0.106932</td><td style=\"text-align: right;\">0.218862</td><td style=\"text-align: right;\">0.230382</td></tr>\n",
              "</tbody>\n",
              "</table>"
            ]
          },
          "metadata": {}
        },
        {
          "output_type": "execute_result",
          "data": {
            "text/plain": [
              ""
            ]
          },
          "metadata": {},
          "execution_count": 52
        }
      ]
    },
    {
      "cell_type": "markdown",
      "source": [
        "Getting all the model ids"
      ],
      "metadata": {
        "id": "6rJJyVFPNd1r"
      }
    },
    {
      "cell_type": "code",
      "source": [
        "model_ids = list(aml.leaderboard['model_id'].as_data_frame().iloc[:,0])"
      ],
      "metadata": {
        "id": "2M4Z2zRaNaFn"
      },
      "execution_count": 53,
      "outputs": []
    },
    {
      "cell_type": "code",
      "source": [
        "model_ids"
      ],
      "metadata": {
        "colab": {
          "base_uri": "https://localhost:8080/"
        },
        "id": "8aAh-1XTNpL-",
        "outputId": "4967ef54-0117-4cca-f58e-80ae5ef5fdc4"
      },
      "execution_count": 54,
      "outputs": [
        {
          "output_type": "execute_result",
          "data": {
            "text/plain": [
              "['StackedEnsemble_AllModels_5_AutoML_1_20220119_163935',\n",
              " 'StackedEnsemble_AllModels_2_AutoML_1_20220119_163935',\n",
              " 'StackedEnsemble_AllModels_1_AutoML_1_20220119_163935',\n",
              " 'StackedEnsemble_BestOfFamily_6_AutoML_1_20220119_163935',\n",
              " 'StackedEnsemble_BestOfFamily_3_AutoML_1_20220119_163935',\n",
              " 'StackedEnsemble_BestOfFamily_2_AutoML_1_20220119_163935',\n",
              " 'GBM_2_AutoML_1_20220119_163935',\n",
              " 'GBM_1_AutoML_1_20220119_163935',\n",
              " 'StackedEnsemble_AllModels_4_AutoML_1_20220119_163935',\n",
              " 'StackedEnsemble_BestOfFamily_1_AutoML_1_20220119_163935',\n",
              " 'GBM_3_AutoML_1_20220119_163935',\n",
              " 'DRF_1_AutoML_1_20220119_163935',\n",
              " 'StackedEnsemble_BestOfFamily_5_AutoML_1_20220119_163935',\n",
              " 'GBM_4_AutoML_1_20220119_163935',\n",
              " 'XGBoost_3_AutoML_1_20220119_163935',\n",
              " 'XRT_1_AutoML_1_20220119_163935',\n",
              " 'StackedEnsemble_BestOfFamily_4_AutoML_1_20220119_163935',\n",
              " 'StackedEnsemble_AllModels_3_AutoML_1_20220119_163935',\n",
              " 'XGBoost_2_AutoML_1_20220119_163935',\n",
              " 'XGBoost_1_AutoML_1_20220119_163935',\n",
              " 'GLM_1_AutoML_1_20220119_163935']"
            ]
          },
          "metadata": {},
          "execution_count": 54
        }
      ]
    },
    {
      "cell_type": "code",
      "source": [
        "aml.leader.model_performance(df_test)"
      ],
      "metadata": {
        "colab": {
          "base_uri": "https://localhost:8080/"
        },
        "id": "mj0lUBMmNtqV",
        "outputId": "048cb8f9-e3d2-4852-c372-030b8b7b6f6d"
      },
      "execution_count": 55,
      "outputs": [
        {
          "output_type": "stream",
          "name": "stdout",
          "text": [
            "\n",
            "ModelMetricsRegressionGLM: stackedensemble\n",
            "** Reported on test data. **\n",
            "\n",
            "MSE: 0.09310392993897637\n",
            "RMSE: 0.3051293659072761\n",
            "MAE: 0.1966205143866848\n",
            "RMSLE: 0.21401412539012435\n",
            "R^2: 0.43655270302165217\n",
            "Mean Residual Deviance: 0.09310392993897637\n",
            "Null degrees of freedom: 1962\n",
            "Residual degrees of freedom: 1955\n",
            "Null deviance: 324.4468071792313\n",
            "Residual deviance: 182.7630144702106\n",
            "AIC: 928.5143529117948\n"
          ]
        },
        {
          "output_type": "execute_result",
          "data": {
            "text/plain": [
              ""
            ]
          },
          "metadata": {},
          "execution_count": 55
        }
      ]
    },
    {
      "cell_type": "markdown",
      "source": [
        "Getting the model details for best performing model"
      ],
      "metadata": {
        "id": "vEBWue-rNwUD"
      }
    },
    {
      "cell_type": "code",
      "source": [
        "h2o.get_model([mid for mid in model_ids if \"StackedEnsemble\" in mid][0])"
      ],
      "metadata": {
        "colab": {
          "base_uri": "https://localhost:8080/"
        },
        "id": "BatCaf7DNtk9",
        "outputId": "2b164231-4bcd-41b7-eec8-4179995bc9b5"
      },
      "execution_count": 56,
      "outputs": [
        {
          "output_type": "stream",
          "name": "stdout",
          "text": [
            "Model Details\n",
            "=============\n",
            "H2OStackedEnsembleEstimator :  Stacked Ensemble\n",
            "Model Key:  StackedEnsemble_AllModels_5_AutoML_1_20220119_163935\n",
            "\n",
            "No model summary for this model\n",
            "\n",
            "ModelMetricsRegressionGLM: stackedensemble\n",
            "** Reported on train data. **\n",
            "\n",
            "MSE: 0.06641812274763603\n",
            "RMSE: 0.2577171370856739\n",
            "MAE: 0.16633450009320777\n",
            "RMSLE: 0.1781479628159806\n",
            "R^2: 0.588633472502788\n",
            "Mean Residual Deviance: 0.06641812274763603\n",
            "Null degrees of freedom: 8036\n",
            "Residual degrees of freedom: 8029\n",
            "Null deviance: 1297.6322010700696\n",
            "Residual deviance: 533.8024525227507\n",
            "AIC: 1031.399311297823\n",
            "\n",
            "ModelMetricsRegressionGLM: stackedensemble\n",
            "** Reported on cross-validation data. **\n",
            "\n",
            "MSE: 0.105197218943922\n",
            "RMSE: 0.32434120759459784\n",
            "MAE: 0.21443560718413007\n",
            "RMSLE: 0.22815897604942315\n",
            "R^2: 0.3484517046085083\n",
            "Mean Residual Deviance: 0.105197218943922\n",
            "Null degrees of freedom: 8036\n",
            "Residual degrees of freedom: 8029\n",
            "Null deviance: 1298.3627271427736\n",
            "Residual deviance: 845.4700486523011\n",
            "AIC: 4727.349682001869\n"
          ]
        },
        {
          "output_type": "execute_result",
          "data": {
            "text/plain": [
              ""
            ]
          },
          "metadata": {},
          "execution_count": 56
        }
      ]
    },
    {
      "cell_type": "code",
      "source": [
        "output= h2o.get_model([mid for mid in model_ids if \"StackedEnsemble\" in mid][0])\n",
        "output.params"
      ],
      "metadata": {
        "colab": {
          "base_uri": "https://localhost:8080/"
        },
        "id": "GaVEDEkQNtg9",
        "outputId": "4e0b3e9f-110f-4fbe-841e-d6ea9e447705"
      },
      "execution_count": 57,
      "outputs": [
        {
          "output_type": "execute_result",
          "data": {
            "text/plain": [
              "{'auc_type': {'actual': 'AUTO', 'default': 'AUTO', 'input': 'AUTO'},\n",
              " 'base_models': {'actual': [{'URL': None,\n",
              "    '__meta': {'schema_name': 'KeyV3',\n",
              "     'schema_type': 'Key<Keyed>',\n",
              "     'schema_version': 3},\n",
              "    'name': 'GBM_2_AutoML_1_20220119_163935',\n",
              "    'type': 'Key<Keyed>'},\n",
              "   {'URL': None,\n",
              "    '__meta': {'schema_name': 'KeyV3',\n",
              "     'schema_type': 'Key<Keyed>',\n",
              "     'schema_version': 3},\n",
              "    'name': 'GBM_1_AutoML_1_20220119_163935',\n",
              "    'type': 'Key<Keyed>'},\n",
              "   {'URL': None,\n",
              "    '__meta': {'schema_name': 'KeyV3',\n",
              "     'schema_type': 'Key<Keyed>',\n",
              "     'schema_version': 3},\n",
              "    'name': 'GBM_3_AutoML_1_20220119_163935',\n",
              "    'type': 'Key<Keyed>'},\n",
              "   {'URL': None,\n",
              "    '__meta': {'schema_name': 'KeyV3',\n",
              "     'schema_type': 'Key<Keyed>',\n",
              "     'schema_version': 3},\n",
              "    'name': 'DRF_1_AutoML_1_20220119_163935',\n",
              "    'type': 'Key<Keyed>'},\n",
              "   {'URL': None,\n",
              "    '__meta': {'schema_name': 'KeyV3',\n",
              "     'schema_type': 'Key<Keyed>',\n",
              "     'schema_version': 3},\n",
              "    'name': 'GBM_4_AutoML_1_20220119_163935',\n",
              "    'type': 'Key<Keyed>'},\n",
              "   {'URL': None,\n",
              "    '__meta': {'schema_name': 'KeyV3',\n",
              "     'schema_type': 'Key<Keyed>',\n",
              "     'schema_version': 3},\n",
              "    'name': 'XGBoost_3_AutoML_1_20220119_163935',\n",
              "    'type': 'Key<Keyed>'},\n",
              "   {'URL': None,\n",
              "    '__meta': {'schema_name': 'KeyV3',\n",
              "     'schema_type': 'Key<Keyed>',\n",
              "     'schema_version': 3},\n",
              "    'name': 'XRT_1_AutoML_1_20220119_163935',\n",
              "    'type': 'Key<Keyed>'},\n",
              "   {'URL': None,\n",
              "    '__meta': {'schema_name': 'KeyV3',\n",
              "     'schema_type': 'Key<Keyed>',\n",
              "     'schema_version': 3},\n",
              "    'name': 'XGBoost_2_AutoML_1_20220119_163935',\n",
              "    'type': 'Key<Keyed>'},\n",
              "   {'URL': None,\n",
              "    '__meta': {'schema_name': 'KeyV3',\n",
              "     'schema_type': 'Key<Keyed>',\n",
              "     'schema_version': 3},\n",
              "    'name': 'XGBoost_1_AutoML_1_20220119_163935',\n",
              "    'type': 'Key<Keyed>'},\n",
              "   {'URL': None,\n",
              "    '__meta': {'schema_name': 'KeyV3',\n",
              "     'schema_type': 'Key<Keyed>',\n",
              "     'schema_version': 3},\n",
              "    'name': 'GLM_1_AutoML_1_20220119_163935',\n",
              "    'type': 'Key<Keyed>'}],\n",
              "  'default': [],\n",
              "  'input': [{'URL': None,\n",
              "    '__meta': {'schema_name': 'KeyV3',\n",
              "     'schema_type': 'Key<Keyed>',\n",
              "     'schema_version': 3},\n",
              "    'name': 'GBM_2_AutoML_1_20220119_163935',\n",
              "    'type': 'Key<Keyed>'},\n",
              "   {'URL': None,\n",
              "    '__meta': {'schema_name': 'KeyV3',\n",
              "     'schema_type': 'Key<Keyed>',\n",
              "     'schema_version': 3},\n",
              "    'name': 'GBM_1_AutoML_1_20220119_163935',\n",
              "    'type': 'Key<Keyed>'},\n",
              "   {'URL': None,\n",
              "    '__meta': {'schema_name': 'KeyV3',\n",
              "     'schema_type': 'Key<Keyed>',\n",
              "     'schema_version': 3},\n",
              "    'name': 'GBM_3_AutoML_1_20220119_163935',\n",
              "    'type': 'Key<Keyed>'},\n",
              "   {'URL': None,\n",
              "    '__meta': {'schema_name': 'KeyV3',\n",
              "     'schema_type': 'Key<Keyed>',\n",
              "     'schema_version': 3},\n",
              "    'name': 'DRF_1_AutoML_1_20220119_163935',\n",
              "    'type': 'Key<Keyed>'},\n",
              "   {'URL': None,\n",
              "    '__meta': {'schema_name': 'KeyV3',\n",
              "     'schema_type': 'Key<Keyed>',\n",
              "     'schema_version': 3},\n",
              "    'name': 'GBM_4_AutoML_1_20220119_163935',\n",
              "    'type': 'Key<Keyed>'},\n",
              "   {'URL': None,\n",
              "    '__meta': {'schema_name': 'KeyV3',\n",
              "     'schema_type': 'Key<Keyed>',\n",
              "     'schema_version': 3},\n",
              "    'name': 'XGBoost_3_AutoML_1_20220119_163935',\n",
              "    'type': 'Key<Keyed>'},\n",
              "   {'URL': None,\n",
              "    '__meta': {'schema_name': 'KeyV3',\n",
              "     'schema_type': 'Key<Keyed>',\n",
              "     'schema_version': 3},\n",
              "    'name': 'XRT_1_AutoML_1_20220119_163935',\n",
              "    'type': 'Key<Keyed>'},\n",
              "   {'URL': None,\n",
              "    '__meta': {'schema_name': 'KeyV3',\n",
              "     'schema_type': 'Key<Keyed>',\n",
              "     'schema_version': 3},\n",
              "    'name': 'XGBoost_2_AutoML_1_20220119_163935',\n",
              "    'type': 'Key<Keyed>'},\n",
              "   {'URL': None,\n",
              "    '__meta': {'schema_name': 'KeyV3',\n",
              "     'schema_type': 'Key<Keyed>',\n",
              "     'schema_version': 3},\n",
              "    'name': 'XGBoost_1_AutoML_1_20220119_163935',\n",
              "    'type': 'Key<Keyed>'},\n",
              "   {'URL': None,\n",
              "    '__meta': {'schema_name': 'KeyV3',\n",
              "     'schema_type': 'Key<Keyed>',\n",
              "     'schema_version': 3},\n",
              "    'name': 'GLM_1_AutoML_1_20220119_163935',\n",
              "    'type': 'Key<Keyed>'}]},\n",
              " 'blending_frame': {'actual': None, 'default': None, 'input': None},\n",
              " 'export_checkpoints_dir': {'actual': None, 'default': None, 'input': None},\n",
              " 'keep_levelone_frame': {'actual': True, 'default': False, 'input': True},\n",
              " 'max_runtime_secs': {'actual': 225.666, 'default': 0.0, 'input': 225.666},\n",
              " 'metalearner_algorithm': {'actual': 'glm',\n",
              "  'default': 'AUTO',\n",
              "  'input': 'AUTO'},\n",
              " 'metalearner_fold_assignment': {'actual': None,\n",
              "  'default': None,\n",
              "  'input': None},\n",
              " 'metalearner_fold_column': {'actual': None, 'default': None, 'input': None},\n",
              " 'metalearner_nfolds': {'actual': 2, 'default': 0, 'input': 2},\n",
              " 'metalearner_params': {'actual': '', 'default': '', 'input': ''},\n",
              " 'metalearner_transform': {'actual': 'NONE',\n",
              "  'default': 'NONE',\n",
              "  'input': 'NONE'},\n",
              " 'model_id': {'actual': {'URL': '/3/Models/StackedEnsemble_AllModels_5_AutoML_1_20220119_163935',\n",
              "   '__meta': {'schema_name': 'ModelKeyV3',\n",
              "    'schema_type': 'Key<Model>',\n",
              "    'schema_version': 3},\n",
              "   'name': 'StackedEnsemble_AllModels_5_AutoML_1_20220119_163935',\n",
              "   'type': 'Key<Model>'},\n",
              "  'default': None,\n",
              "  'input': None},\n",
              " 'offset_column': {'actual': None, 'default': None, 'input': None},\n",
              " 'response_column': {'actual': {'__meta': {'schema_name': 'ColSpecifierV3',\n",
              "    'schema_type': 'VecSpecifier',\n",
              "    'schema_version': 3},\n",
              "   'column_name': 'Exited',\n",
              "   'is_member_of_frames': None},\n",
              "  'default': None,\n",
              "  'input': {'__meta': {'schema_name': 'ColSpecifierV3',\n",
              "    'schema_type': 'VecSpecifier',\n",
              "    'schema_version': 3},\n",
              "   'column_name': 'Exited',\n",
              "   'is_member_of_frames': None}},\n",
              " 'score_training_samples': {'actual': 10000, 'default': 10000, 'input': 10000},\n",
              " 'seed': {'actual': 30, 'default': -1, 'input': 30},\n",
              " 'training_frame': {'actual': {'URL': '/3/Frames/AutoML_1_20220119_163935_training_py_3_sid_a27e',\n",
              "   '__meta': {'schema_name': 'FrameKeyV3',\n",
              "    'schema_type': 'Key<Frame>',\n",
              "    'schema_version': 3},\n",
              "   'name': 'AutoML_1_20220119_163935_training_py_3_sid_a27e',\n",
              "   'type': 'Key<Frame>'},\n",
              "  'default': None,\n",
              "  'input': {'URL': '/3/Frames/AutoML_1_20220119_163935_training_py_3_sid_a27e',\n",
              "   '__meta': {'schema_name': 'FrameKeyV3',\n",
              "    'schema_type': 'Key<Frame>',\n",
              "    'schema_version': 3},\n",
              "   'name': 'AutoML_1_20220119_163935_training_py_3_sid_a27e',\n",
              "   'type': 'Key<Frame>'}},\n",
              " 'validation_frame': {'actual': None, 'default': None, 'input': None},\n",
              " 'weights_column': {'actual': None, 'default': None, 'input': None}}"
            ]
          },
          "metadata": {},
          "execution_count": 57
        }
      ]
    },
    {
      "cell_type": "code",
      "source": [
        "aml.leader"
      ],
      "metadata": {
        "colab": {
          "base_uri": "https://localhost:8080/"
        },
        "id": "u1cn53Z3N0O0",
        "outputId": "23a8c892-680d-4e4f-c155-eb1391fee348"
      },
      "execution_count": 58,
      "outputs": [
        {
          "output_type": "stream",
          "name": "stdout",
          "text": [
            "Model Details\n",
            "=============\n",
            "H2OStackedEnsembleEstimator :  Stacked Ensemble\n",
            "Model Key:  StackedEnsemble_AllModels_5_AutoML_1_20220119_163935\n",
            "\n",
            "No model summary for this model\n",
            "\n",
            "ModelMetricsRegressionGLM: stackedensemble\n",
            "** Reported on train data. **\n",
            "\n",
            "MSE: 0.06641812274763603\n",
            "RMSE: 0.2577171370856739\n",
            "MAE: 0.16633450009320777\n",
            "RMSLE: 0.1781479628159806\n",
            "R^2: 0.588633472502788\n",
            "Mean Residual Deviance: 0.06641812274763603\n",
            "Null degrees of freedom: 8036\n",
            "Residual degrees of freedom: 8029\n",
            "Null deviance: 1297.6322010700696\n",
            "Residual deviance: 533.8024525227507\n",
            "AIC: 1031.399311297823\n",
            "\n",
            "ModelMetricsRegressionGLM: stackedensemble\n",
            "** Reported on cross-validation data. **\n",
            "\n",
            "MSE: 0.105197218943922\n",
            "RMSE: 0.32434120759459784\n",
            "MAE: 0.21443560718413007\n",
            "RMSLE: 0.22815897604942315\n",
            "R^2: 0.3484517046085083\n",
            "Mean Residual Deviance: 0.105197218943922\n",
            "Null degrees of freedom: 8036\n",
            "Residual degrees of freedom: 8029\n",
            "Null deviance: 1298.3627271427736\n",
            "Residual deviance: 845.4700486523011\n",
            "AIC: 4727.349682001869\n"
          ]
        },
        {
          "output_type": "execute_result",
          "data": {
            "text/plain": [
              ""
            ]
          },
          "metadata": {},
          "execution_count": 58
        }
      ]
    },
    {
      "cell_type": "code",
      "source": [
        "y_pred=aml.leader.predict(df_test)"
      ],
      "metadata": {
        "colab": {
          "base_uri": "https://localhost:8080/"
        },
        "id": "j-FEHGUoN2m-",
        "outputId": "d20d0787-fe92-4375-a879-6b056a6f2c00"
      },
      "execution_count": 59,
      "outputs": [
        {
          "output_type": "stream",
          "name": "stdout",
          "text": [
            "stackedensemble prediction progress: |███████████████████████████████████████████| (done) 100%\n"
          ]
        }
      ]
    },
    {
      "cell_type": "code",
      "source": [
        "y_pred"
      ],
      "metadata": {
        "colab": {
          "base_uri": "https://localhost:8080/",
          "height": 249
        },
        "id": "4qAg-YJbN4au",
        "outputId": "66447f10-3dcd-4e16-b96c-d7eac4d99df8"
      },
      "execution_count": 60,
      "outputs": [
        {
          "output_type": "display_data",
          "data": {
            "text/html": [
              "<table>\n",
              "<thead>\n",
              "<tr><th style=\"text-align: right;\">  predict</th></tr>\n",
              "</thead>\n",
              "<tbody>\n",
              "<tr><td style=\"text-align: right;\">0.235844 </td></tr>\n",
              "<tr><td style=\"text-align: right;\">0.977429 </td></tr>\n",
              "<tr><td style=\"text-align: right;\">0.0295842</td></tr>\n",
              "<tr><td style=\"text-align: right;\">1.00622  </td></tr>\n",
              "<tr><td style=\"text-align: right;\">0.197444 </td></tr>\n",
              "<tr><td style=\"text-align: right;\">0.0348027</td></tr>\n",
              "<tr><td style=\"text-align: right;\">0.14815  </td></tr>\n",
              "<tr><td style=\"text-align: right;\">0.0838831</td></tr>\n",
              "<tr><td style=\"text-align: right;\">0.685477 </td></tr>\n",
              "<tr><td style=\"text-align: right;\">0.248511 </td></tr>\n",
              "</tbody>\n",
              "</table>"
            ]
          },
          "metadata": {}
        },
        {
          "output_type": "execute_result",
          "data": {
            "text/plain": [
              ""
            ]
          },
          "metadata": {},
          "execution_count": 60
        }
      ]
    },
    {
      "cell_type": "code",
      "source": [
        ""
      ],
      "metadata": {
        "id": "pTq1e0CMN5OZ"
      },
      "execution_count": null,
      "outputs": []
    }
  ]
}